{
  "nbformat": 4,
  "nbformat_minor": 0,
  "metadata": {
    "colab": {
      "provenance": []
    },
    "kernelspec": {
      "name": "python3",
      "display_name": "Python 3"
    },
    "language_info": {
      "name": "python"
    }
  },
  "cells": [
    {
      "cell_type": "markdown",
      "source": [
        "#LGMVIP August Data Science Internship task 1\n",
        "Stock Market Prediction And Forecasting Using Stacked LSTM _ (Uday Dogiparthi)"
      ],
      "metadata": {
        "id": "mS1NcEGxbYBF"
      }
    },
    {
      "cell_type": "markdown",
      "source": [
        "#Importhing Libraries\n"
      ],
      "metadata": {
        "id": "ZtjE-UkEc0In"
      }
    },
    {
      "cell_type": "code",
      "execution_count": null,
      "metadata": {
        "id": "IF3XnBZdTDT9"
      },
      "outputs": [],
      "source": [
        "import numpy as np\n",
        "import matplotlib.pyplot as plt\n",
        "import pandas as pd"
      ]
    },
    {
      "cell_type": "code",
      "source": [
        "import tensorflow as tf\n",
        "from tensorflow.python.keras.models import Sequential\n",
        "from tensorflow.python.keras.layers import Dense\n",
        "from tensorflow.python.keras.layers import LSTM\n",
        "%matplotlib inline"
      ],
      "metadata": {
        "id": "e_ZSFMjeTOUK"
      },
      "execution_count": null,
      "outputs": []
    },
    {
      "cell_type": "markdown",
      "source": [
        "#Collection of Data"
      ],
      "metadata": {
        "id": "6-FmY5CMc7SD"
      }
    },
    {
      "cell_type": "code",
      "source": [
        "data = pd.read_csv(\"https://raw.githubusercontent.com/mwitiderrick/stockprice/master/NSE-TATAGLOBAL.csv\")\n",
        "data.head()"
      ],
      "metadata": {
        "colab": {
          "base_uri": "https://localhost:8080/",
          "height": 243
        },
        "id": "SV9MZ9j5TRMF",
        "outputId": "f807098c-b435-4b6b-b5ed-c3534342dd01"
      },
      "execution_count": null,
      "outputs": [
        {
          "output_type": "execute_result",
          "data": {
            "text/plain": [
              "         Date    Open    High     Low    Last   Close  Total Trade Quantity  \\\n",
              "0  2018-09-28  234.05  235.95  230.20  233.50  233.75               3069914   \n",
              "1  2018-09-27  234.55  236.80  231.10  233.80  233.25               5082859   \n",
              "2  2018-09-26  240.00  240.00  232.50  235.00  234.25               2240909   \n",
              "3  2018-09-25  233.30  236.75  232.00  236.25  236.10               2349368   \n",
              "4  2018-09-24  233.55  239.20  230.75  234.00  233.30               3423509   \n",
              "\n",
              "   Turnover (Lacs)  \n",
              "0          7162.35  \n",
              "1         11859.95  \n",
              "2          5248.60  \n",
              "3          5503.90  \n",
              "4          7999.55  "
            ],
            "text/html": [
              "\n",
              "  <div id=\"df-48d8d185-ce90-4e08-95a1-72cd07e91846\" class=\"colab-df-container\">\n",
              "    <div>\n",
              "<style scoped>\n",
              "    .dataframe tbody tr th:only-of-type {\n",
              "        vertical-align: middle;\n",
              "    }\n",
              "\n",
              "    .dataframe tbody tr th {\n",
              "        vertical-align: top;\n",
              "    }\n",
              "\n",
              "    .dataframe thead th {\n",
              "        text-align: right;\n",
              "    }\n",
              "</style>\n",
              "<table border=\"1\" class=\"dataframe\">\n",
              "  <thead>\n",
              "    <tr style=\"text-align: right;\">\n",
              "      <th></th>\n",
              "      <th>Date</th>\n",
              "      <th>Open</th>\n",
              "      <th>High</th>\n",
              "      <th>Low</th>\n",
              "      <th>Last</th>\n",
              "      <th>Close</th>\n",
              "      <th>Total Trade Quantity</th>\n",
              "      <th>Turnover (Lacs)</th>\n",
              "    </tr>\n",
              "  </thead>\n",
              "  <tbody>\n",
              "    <tr>\n",
              "      <th>0</th>\n",
              "      <td>2018-09-28</td>\n",
              "      <td>234.05</td>\n",
              "      <td>235.95</td>\n",
              "      <td>230.20</td>\n",
              "      <td>233.50</td>\n",
              "      <td>233.75</td>\n",
              "      <td>3069914</td>\n",
              "      <td>7162.35</td>\n",
              "    </tr>\n",
              "    <tr>\n",
              "      <th>1</th>\n",
              "      <td>2018-09-27</td>\n",
              "      <td>234.55</td>\n",
              "      <td>236.80</td>\n",
              "      <td>231.10</td>\n",
              "      <td>233.80</td>\n",
              "      <td>233.25</td>\n",
              "      <td>5082859</td>\n",
              "      <td>11859.95</td>\n",
              "    </tr>\n",
              "    <tr>\n",
              "      <th>2</th>\n",
              "      <td>2018-09-26</td>\n",
              "      <td>240.00</td>\n",
              "      <td>240.00</td>\n",
              "      <td>232.50</td>\n",
              "      <td>235.00</td>\n",
              "      <td>234.25</td>\n",
              "      <td>2240909</td>\n",
              "      <td>5248.60</td>\n",
              "    </tr>\n",
              "    <tr>\n",
              "      <th>3</th>\n",
              "      <td>2018-09-25</td>\n",
              "      <td>233.30</td>\n",
              "      <td>236.75</td>\n",
              "      <td>232.00</td>\n",
              "      <td>236.25</td>\n",
              "      <td>236.10</td>\n",
              "      <td>2349368</td>\n",
              "      <td>5503.90</td>\n",
              "    </tr>\n",
              "    <tr>\n",
              "      <th>4</th>\n",
              "      <td>2018-09-24</td>\n",
              "      <td>233.55</td>\n",
              "      <td>239.20</td>\n",
              "      <td>230.75</td>\n",
              "      <td>234.00</td>\n",
              "      <td>233.30</td>\n",
              "      <td>3423509</td>\n",
              "      <td>7999.55</td>\n",
              "    </tr>\n",
              "  </tbody>\n",
              "</table>\n",
              "</div>\n",
              "    <div class=\"colab-df-buttons\">\n",
              "\n",
              "  <div class=\"colab-df-container\">\n",
              "    <button class=\"colab-df-convert\" onclick=\"convertToInteractive('df-48d8d185-ce90-4e08-95a1-72cd07e91846')\"\n",
              "            title=\"Convert this dataframe to an interactive table.\"\n",
              "            style=\"display:none;\">\n",
              "\n",
              "  <svg xmlns=\"http://www.w3.org/2000/svg\" height=\"24px\" viewBox=\"0 -960 960 960\">\n",
              "    <path d=\"M120-120v-720h720v720H120Zm60-500h600v-160H180v160Zm220 220h160v-160H400v160Zm0 220h160v-160H400v160ZM180-400h160v-160H180v160Zm440 0h160v-160H620v160ZM180-180h160v-160H180v160Zm440 0h160v-160H620v160Z\"/>\n",
              "  </svg>\n",
              "    </button>\n",
              "\n",
              "  <style>\n",
              "    .colab-df-container {\n",
              "      display:flex;\n",
              "      gap: 12px;\n",
              "    }\n",
              "\n",
              "    .colab-df-convert {\n",
              "      background-color: #E8F0FE;\n",
              "      border: none;\n",
              "      border-radius: 50%;\n",
              "      cursor: pointer;\n",
              "      display: none;\n",
              "      fill: #1967D2;\n",
              "      height: 32px;\n",
              "      padding: 0 0 0 0;\n",
              "      width: 32px;\n",
              "    }\n",
              "\n",
              "    .colab-df-convert:hover {\n",
              "      background-color: #E2EBFA;\n",
              "      box-shadow: 0px 1px 2px rgba(60, 64, 67, 0.3), 0px 1px 3px 1px rgba(60, 64, 67, 0.15);\n",
              "      fill: #174EA6;\n",
              "    }\n",
              "\n",
              "    .colab-df-buttons div {\n",
              "      margin-bottom: 4px;\n",
              "    }\n",
              "\n",
              "    [theme=dark] .colab-df-convert {\n",
              "      background-color: #3B4455;\n",
              "      fill: #D2E3FC;\n",
              "    }\n",
              "\n",
              "    [theme=dark] .colab-df-convert:hover {\n",
              "      background-color: #434B5C;\n",
              "      box-shadow: 0px 1px 3px 1px rgba(0, 0, 0, 0.15);\n",
              "      filter: drop-shadow(0px 1px 2px rgba(0, 0, 0, 0.3));\n",
              "      fill: #FFFFFF;\n",
              "    }\n",
              "  </style>\n",
              "\n",
              "    <script>\n",
              "      const buttonEl =\n",
              "        document.querySelector('#df-48d8d185-ce90-4e08-95a1-72cd07e91846 button.colab-df-convert');\n",
              "      buttonEl.style.display =\n",
              "        google.colab.kernel.accessAllowed ? 'block' : 'none';\n",
              "\n",
              "      async function convertToInteractive(key) {\n",
              "        const element = document.querySelector('#df-48d8d185-ce90-4e08-95a1-72cd07e91846');\n",
              "        const dataTable =\n",
              "          await google.colab.kernel.invokeFunction('convertToInteractive',\n",
              "                                                    [key], {});\n",
              "        if (!dataTable) return;\n",
              "\n",
              "        const docLinkHtml = 'Like what you see? Visit the ' +\n",
              "          '<a target=\"_blank\" href=https://colab.research.google.com/notebooks/data_table.ipynb>data table notebook</a>'\n",
              "          + ' to learn more about interactive tables.';\n",
              "        element.innerHTML = '';\n",
              "        dataTable['output_type'] = 'display_data';\n",
              "        await google.colab.output.renderOutput(dataTable, element);\n",
              "        const docLink = document.createElement('div');\n",
              "        docLink.innerHTML = docLinkHtml;\n",
              "        element.appendChild(docLink);\n",
              "      }\n",
              "    </script>\n",
              "  </div>\n",
              "\n",
              "\n",
              "<div id=\"df-7d5fd8d2-6a32-423c-b0f9-933faaca7135\">\n",
              "  <button class=\"colab-df-quickchart\" onclick=\"quickchart('df-7d5fd8d2-6a32-423c-b0f9-933faaca7135')\"\n",
              "            title=\"Suggest charts.\"\n",
              "            style=\"display:none;\">\n",
              "\n",
              "<svg xmlns=\"http://www.w3.org/2000/svg\" height=\"24px\"viewBox=\"0 0 24 24\"\n",
              "     width=\"24px\">\n",
              "    <g>\n",
              "        <path d=\"M19 3H5c-1.1 0-2 .9-2 2v14c0 1.1.9 2 2 2h14c1.1 0 2-.9 2-2V5c0-1.1-.9-2-2-2zM9 17H7v-7h2v7zm4 0h-2V7h2v10zm4 0h-2v-4h2v4z\"/>\n",
              "    </g>\n",
              "</svg>\n",
              "  </button>\n",
              "\n",
              "<style>\n",
              "  .colab-df-quickchart {\n",
              "    background-color: #E8F0FE;\n",
              "    border: none;\n",
              "    border-radius: 50%;\n",
              "    cursor: pointer;\n",
              "    display: none;\n",
              "    fill: #1967D2;\n",
              "    height: 32px;\n",
              "    padding: 0 0 0 0;\n",
              "    width: 32px;\n",
              "  }\n",
              "\n",
              "  .colab-df-quickchart:hover {\n",
              "    background-color: #E2EBFA;\n",
              "    box-shadow: 0px 1px 2px rgba(60, 64, 67, 0.3), 0px 1px 3px 1px rgba(60, 64, 67, 0.15);\n",
              "    fill: #174EA6;\n",
              "  }\n",
              "\n",
              "  [theme=dark] .colab-df-quickchart {\n",
              "    background-color: #3B4455;\n",
              "    fill: #D2E3FC;\n",
              "  }\n",
              "\n",
              "  [theme=dark] .colab-df-quickchart:hover {\n",
              "    background-color: #434B5C;\n",
              "    box-shadow: 0px 1px 3px 1px rgba(0, 0, 0, 0.15);\n",
              "    filter: drop-shadow(0px 1px 2px rgba(0, 0, 0, 0.3));\n",
              "    fill: #FFFFFF;\n",
              "  }\n",
              "</style>\n",
              "\n",
              "  <script>\n",
              "    async function quickchart(key) {\n",
              "      const charts = await google.colab.kernel.invokeFunction(\n",
              "          'suggestCharts', [key], {});\n",
              "    }\n",
              "    (() => {\n",
              "      let quickchartButtonEl =\n",
              "        document.querySelector('#df-7d5fd8d2-6a32-423c-b0f9-933faaca7135 button');\n",
              "      quickchartButtonEl.style.display =\n",
              "        google.colab.kernel.accessAllowed ? 'block' : 'none';\n",
              "    })();\n",
              "  </script>\n",
              "</div>\n",
              "    </div>\n",
              "  </div>\n"
            ]
          },
          "metadata": {},
          "execution_count": 3
        }
      ]
    },
    {
      "cell_type": "code",
      "source": [
        "data.tail()"
      ],
      "metadata": {
        "colab": {
          "base_uri": "https://localhost:8080/",
          "height": 206
        },
        "id": "X3FKO6rtTee7",
        "outputId": "788edad6-5449-4d02-8b39-239c5ad0cfb3"
      },
      "execution_count": null,
      "outputs": [
        {
          "output_type": "execute_result",
          "data": {
            "text/plain": [
              "            Date   Open    High     Low    Last   Close  Total Trade Quantity  \\\n",
              "2030  2010-07-27  117.6  119.50  112.00  118.80  118.65                586100   \n",
              "2031  2010-07-26  120.1  121.00  117.10  117.10  117.60                658440   \n",
              "2032  2010-07-23  121.8  121.95  120.25  120.35  120.65                281312   \n",
              "2033  2010-07-22  120.3  122.00  120.25  120.75  120.90                293312   \n",
              "2034  2010-07-21  122.1  123.00  121.05  121.10  121.55                658666   \n",
              "\n",
              "      Turnover (Lacs)  \n",
              "2030           694.98  \n",
              "2031           780.01  \n",
              "2032           340.31  \n",
              "2033           355.17  \n",
              "2034           803.56  "
            ],
            "text/html": [
              "\n",
              "  <div id=\"df-ae7252a5-2941-4cb8-8254-86411b564ed4\" class=\"colab-df-container\">\n",
              "    <div>\n",
              "<style scoped>\n",
              "    .dataframe tbody tr th:only-of-type {\n",
              "        vertical-align: middle;\n",
              "    }\n",
              "\n",
              "    .dataframe tbody tr th {\n",
              "        vertical-align: top;\n",
              "    }\n",
              "\n",
              "    .dataframe thead th {\n",
              "        text-align: right;\n",
              "    }\n",
              "</style>\n",
              "<table border=\"1\" class=\"dataframe\">\n",
              "  <thead>\n",
              "    <tr style=\"text-align: right;\">\n",
              "      <th></th>\n",
              "      <th>Date</th>\n",
              "      <th>Open</th>\n",
              "      <th>High</th>\n",
              "      <th>Low</th>\n",
              "      <th>Last</th>\n",
              "      <th>Close</th>\n",
              "      <th>Total Trade Quantity</th>\n",
              "      <th>Turnover (Lacs)</th>\n",
              "    </tr>\n",
              "  </thead>\n",
              "  <tbody>\n",
              "    <tr>\n",
              "      <th>2030</th>\n",
              "      <td>2010-07-27</td>\n",
              "      <td>117.6</td>\n",
              "      <td>119.50</td>\n",
              "      <td>112.00</td>\n",
              "      <td>118.80</td>\n",
              "      <td>118.65</td>\n",
              "      <td>586100</td>\n",
              "      <td>694.98</td>\n",
              "    </tr>\n",
              "    <tr>\n",
              "      <th>2031</th>\n",
              "      <td>2010-07-26</td>\n",
              "      <td>120.1</td>\n",
              "      <td>121.00</td>\n",
              "      <td>117.10</td>\n",
              "      <td>117.10</td>\n",
              "      <td>117.60</td>\n",
              "      <td>658440</td>\n",
              "      <td>780.01</td>\n",
              "    </tr>\n",
              "    <tr>\n",
              "      <th>2032</th>\n",
              "      <td>2010-07-23</td>\n",
              "      <td>121.8</td>\n",
              "      <td>121.95</td>\n",
              "      <td>120.25</td>\n",
              "      <td>120.35</td>\n",
              "      <td>120.65</td>\n",
              "      <td>281312</td>\n",
              "      <td>340.31</td>\n",
              "    </tr>\n",
              "    <tr>\n",
              "      <th>2033</th>\n",
              "      <td>2010-07-22</td>\n",
              "      <td>120.3</td>\n",
              "      <td>122.00</td>\n",
              "      <td>120.25</td>\n",
              "      <td>120.75</td>\n",
              "      <td>120.90</td>\n",
              "      <td>293312</td>\n",
              "      <td>355.17</td>\n",
              "    </tr>\n",
              "    <tr>\n",
              "      <th>2034</th>\n",
              "      <td>2010-07-21</td>\n",
              "      <td>122.1</td>\n",
              "      <td>123.00</td>\n",
              "      <td>121.05</td>\n",
              "      <td>121.10</td>\n",
              "      <td>121.55</td>\n",
              "      <td>658666</td>\n",
              "      <td>803.56</td>\n",
              "    </tr>\n",
              "  </tbody>\n",
              "</table>\n",
              "</div>\n",
              "    <div class=\"colab-df-buttons\">\n",
              "\n",
              "  <div class=\"colab-df-container\">\n",
              "    <button class=\"colab-df-convert\" onclick=\"convertToInteractive('df-ae7252a5-2941-4cb8-8254-86411b564ed4')\"\n",
              "            title=\"Convert this dataframe to an interactive table.\"\n",
              "            style=\"display:none;\">\n",
              "\n",
              "  <svg xmlns=\"http://www.w3.org/2000/svg\" height=\"24px\" viewBox=\"0 -960 960 960\">\n",
              "    <path d=\"M120-120v-720h720v720H120Zm60-500h600v-160H180v160Zm220 220h160v-160H400v160Zm0 220h160v-160H400v160ZM180-400h160v-160H180v160Zm440 0h160v-160H620v160ZM180-180h160v-160H180v160Zm440 0h160v-160H620v160Z\"/>\n",
              "  </svg>\n",
              "    </button>\n",
              "\n",
              "  <style>\n",
              "    .colab-df-container {\n",
              "      display:flex;\n",
              "      gap: 12px;\n",
              "    }\n",
              "\n",
              "    .colab-df-convert {\n",
              "      background-color: #E8F0FE;\n",
              "      border: none;\n",
              "      border-radius: 50%;\n",
              "      cursor: pointer;\n",
              "      display: none;\n",
              "      fill: #1967D2;\n",
              "      height: 32px;\n",
              "      padding: 0 0 0 0;\n",
              "      width: 32px;\n",
              "    }\n",
              "\n",
              "    .colab-df-convert:hover {\n",
              "      background-color: #E2EBFA;\n",
              "      box-shadow: 0px 1px 2px rgba(60, 64, 67, 0.3), 0px 1px 3px 1px rgba(60, 64, 67, 0.15);\n",
              "      fill: #174EA6;\n",
              "    }\n",
              "\n",
              "    .colab-df-buttons div {\n",
              "      margin-bottom: 4px;\n",
              "    }\n",
              "\n",
              "    [theme=dark] .colab-df-convert {\n",
              "      background-color: #3B4455;\n",
              "      fill: #D2E3FC;\n",
              "    }\n",
              "\n",
              "    [theme=dark] .colab-df-convert:hover {\n",
              "      background-color: #434B5C;\n",
              "      box-shadow: 0px 1px 3px 1px rgba(0, 0, 0, 0.15);\n",
              "      filter: drop-shadow(0px 1px 2px rgba(0, 0, 0, 0.3));\n",
              "      fill: #FFFFFF;\n",
              "    }\n",
              "  </style>\n",
              "\n",
              "    <script>\n",
              "      const buttonEl =\n",
              "        document.querySelector('#df-ae7252a5-2941-4cb8-8254-86411b564ed4 button.colab-df-convert');\n",
              "      buttonEl.style.display =\n",
              "        google.colab.kernel.accessAllowed ? 'block' : 'none';\n",
              "\n",
              "      async function convertToInteractive(key) {\n",
              "        const element = document.querySelector('#df-ae7252a5-2941-4cb8-8254-86411b564ed4');\n",
              "        const dataTable =\n",
              "          await google.colab.kernel.invokeFunction('convertToInteractive',\n",
              "                                                    [key], {});\n",
              "        if (!dataTable) return;\n",
              "\n",
              "        const docLinkHtml = 'Like what you see? Visit the ' +\n",
              "          '<a target=\"_blank\" href=https://colab.research.google.com/notebooks/data_table.ipynb>data table notebook</a>'\n",
              "          + ' to learn more about interactive tables.';\n",
              "        element.innerHTML = '';\n",
              "        dataTable['output_type'] = 'display_data';\n",
              "        await google.colab.output.renderOutput(dataTable, element);\n",
              "        const docLink = document.createElement('div');\n",
              "        docLink.innerHTML = docLinkHtml;\n",
              "        element.appendChild(docLink);\n",
              "      }\n",
              "    </script>\n",
              "  </div>\n",
              "\n",
              "\n",
              "<div id=\"df-e906b77c-ed4b-45df-9380-10c6a1381035\">\n",
              "  <button class=\"colab-df-quickchart\" onclick=\"quickchart('df-e906b77c-ed4b-45df-9380-10c6a1381035')\"\n",
              "            title=\"Suggest charts.\"\n",
              "            style=\"display:none;\">\n",
              "\n",
              "<svg xmlns=\"http://www.w3.org/2000/svg\" height=\"24px\"viewBox=\"0 0 24 24\"\n",
              "     width=\"24px\">\n",
              "    <g>\n",
              "        <path d=\"M19 3H5c-1.1 0-2 .9-2 2v14c0 1.1.9 2 2 2h14c1.1 0 2-.9 2-2V5c0-1.1-.9-2-2-2zM9 17H7v-7h2v7zm4 0h-2V7h2v10zm4 0h-2v-4h2v4z\"/>\n",
              "    </g>\n",
              "</svg>\n",
              "  </button>\n",
              "\n",
              "<style>\n",
              "  .colab-df-quickchart {\n",
              "    background-color: #E8F0FE;\n",
              "    border: none;\n",
              "    border-radius: 50%;\n",
              "    cursor: pointer;\n",
              "    display: none;\n",
              "    fill: #1967D2;\n",
              "    height: 32px;\n",
              "    padding: 0 0 0 0;\n",
              "    width: 32px;\n",
              "  }\n",
              "\n",
              "  .colab-df-quickchart:hover {\n",
              "    background-color: #E2EBFA;\n",
              "    box-shadow: 0px 1px 2px rgba(60, 64, 67, 0.3), 0px 1px 3px 1px rgba(60, 64, 67, 0.15);\n",
              "    fill: #174EA6;\n",
              "  }\n",
              "\n",
              "  [theme=dark] .colab-df-quickchart {\n",
              "    background-color: #3B4455;\n",
              "    fill: #D2E3FC;\n",
              "  }\n",
              "\n",
              "  [theme=dark] .colab-df-quickchart:hover {\n",
              "    background-color: #434B5C;\n",
              "    box-shadow: 0px 1px 3px 1px rgba(0, 0, 0, 0.15);\n",
              "    filter: drop-shadow(0px 1px 2px rgba(0, 0, 0, 0.3));\n",
              "    fill: #FFFFFF;\n",
              "  }\n",
              "</style>\n",
              "\n",
              "  <script>\n",
              "    async function quickchart(key) {\n",
              "      const charts = await google.colab.kernel.invokeFunction(\n",
              "          'suggestCharts', [key], {});\n",
              "    }\n",
              "    (() => {\n",
              "      let quickchartButtonEl =\n",
              "        document.querySelector('#df-e906b77c-ed4b-45df-9380-10c6a1381035 button');\n",
              "      quickchartButtonEl.style.display =\n",
              "        google.colab.kernel.accessAllowed ? 'block' : 'none';\n",
              "    })();\n",
              "  </script>\n",
              "</div>\n",
              "    </div>\n",
              "  </div>\n"
            ]
          },
          "metadata": {},
          "execution_count": 18
        }
      ]
    },
    {
      "cell_type": "code",
      "source": [
        "df = data.reset_index()['Open']\n",
        "df.head()"
      ],
      "metadata": {
        "colab": {
          "base_uri": "https://localhost:8080/"
        },
        "id": "TCxNdMiWTitH",
        "outputId": "6ad231f6-ccf4-4e21-dac8-5be08651129f"
      },
      "execution_count": null,
      "outputs": [
        {
          "output_type": "execute_result",
          "data": {
            "text/plain": [
              "0    234.05\n",
              "1    234.55\n",
              "2    240.00\n",
              "3    233.30\n",
              "4    233.55\n",
              "Name: Open, dtype: float64"
            ]
          },
          "metadata": {},
          "execution_count": 19
        }
      ]
    },
    {
      "cell_type": "code",
      "source": [
        "\n",
        "df.shape"
      ],
      "metadata": {
        "colab": {
          "base_uri": "https://localhost:8080/"
        },
        "id": "MIICH6LJTm9W",
        "outputId": "6a756125-4854-4de6-9fcd-173530ec7da7"
      },
      "execution_count": null,
      "outputs": [
        {
          "output_type": "execute_result",
          "data": {
            "text/plain": [
              "(2035,)"
            ]
          },
          "metadata": {},
          "execution_count": 20
        }
      ]
    },
    {
      "cell_type": "code",
      "source": [
        "plt.subplots(figsize = (30,10))\n",
        "plt.plot(df , color =\"black\")\n",
        "plt.title(\"Open\")"
      ],
      "metadata": {
        "colab": {
          "base_uri": "https://localhost:8080/",
          "height": 441
        },
        "id": "VFZ0l0SgTrMG",
        "outputId": "948580b0-45b1-4a95-d203-a3cbdd875a12"
      },
      "execution_count": null,
      "outputs": [
        {
          "output_type": "execute_result",
          "data": {
            "text/plain": [
              "Text(0.5, 1.0, 'Open')"
            ]
          },
          "metadata": {},
          "execution_count": 7
        },
        {
          "output_type": "display_data",
          "data": {
            "text/plain": [
              "<Figure size 3000x1000 with 1 Axes>"
            ],
            "image/png": "[encoded data removed]"
          },
          "metadata": {}
        }
      ]
    },
    {
      "cell_type": "markdown",
      "source": [
        "#Preprocessing of Data(Train and Test)"
      ],
      "metadata": {
        "id": "FtpiMwFpdDaW"
      }
    },
    {
      "cell_type": "code",
      "source": [
        "\n",
        "from sklearn.preprocessing import MinMaxScaler\n",
        "\n",
        "scaler = MinMaxScaler(feature_range=(0,1))\n",
        "df=scaler.fit_transform(np.array(df).reshape(-1,1))"
      ],
      "metadata": {
        "id": "yMifmQ62Tww7"
      },
      "execution_count": null,
      "outputs": []
    },
    {
      "cell_type": "code",
      "source": [
        "print(df)"
      ],
      "metadata": {
        "colab": {
          "base_uri": "https://localhost:8080/"
        },
        "id": "HYTGFUGET0oX",
        "outputId": "3d4c3c86-cd58-4669-f151-25cef1769063"
      },
      "execution_count": null,
      "outputs": [
        {
          "output_type": "stream",
          "name": "stdout",
          "text": [
            "[[0.6202352 ]\n",
            " [0.62226277]\n",
            " [0.64436334]\n",
            " ...\n",
            " [0.16504461]\n",
            " [0.15896188]\n",
            " [0.16626115]]\n"
          ]
        }
      ]
    },
    {
      "cell_type": "code",
      "source": [
        "# Calculate training and testing sizes\n",
        "training_size = int(len(df) * 0.75)\n",
        "testing_size = len(df) - training_size\n",
        "\n",
        "# Split data into train and test sets\n",
        "train_data = df[:training_size, :]\n",
        "test_data = df[training_size:, :1]\n",
        "\n",
        "# Display training and testing sizes\n",
        "print(\"Training Size:\", training_size)\n",
        "print(\"Testing Size:\", testing_size)\n"
      ],
      "metadata": {
        "colab": {
          "base_uri": "https://localhost:8080/"
        },
        "id": "m1ufoR-eT2bM",
        "outputId": "0e31a454-e9dd-4cde-dde1-a52fdf65bf68"
      },
      "execution_count": null,
      "outputs": [
        {
          "output_type": "stream",
          "name": "stdout",
          "text": [
            "Training Size: 1526\n",
            "Testing Size: 509\n"
          ]
        }
      ]
    },
    {
      "cell_type": "code",
      "source": [
        "def dataset(dataset, time_step=1):\n",
        "\tdataX, dataY = [], []\n",
        "\n",
        "\tfor i in range(len(dataset)-time_step-1):\n",
        "\t\ta = dataset[i:(i+time_step), 0]   ###i=0, 0,1,2,3-----99   100\n",
        "\t\tdataX.append(a) # if steps = 100 then, 0-99 here\n",
        "\t\tdataY.append(dataset[i + time_step, 0]) # 100th element here as label\n",
        "\n",
        "\treturn np.array(dataX), np.array(dataY)"
      ],
      "metadata": {
        "id": "NS1QTM4OWErp"
      },
      "execution_count": null,
      "outputs": []
    },
    {
      "cell_type": "code",
      "source": [
        "time_step = 100 # taking previous 100 elements in consideration.\n",
        "\n",
        "X_train, y_train = dataset(train_data, time_step)\n",
        "X_test, ytest = dataset(test_data, time_step)\n",
        "\n",
        "print(X_train.shape), print(y_train.shape)"
      ],
      "metadata": {
        "colab": {
          "base_uri": "https://localhost:8080/"
        },
        "id": "ynXOGfzEWHrr",
        "outputId": "73fcad67-ec4d-4a17-90af-cd960fb82b13"
      },
      "execution_count": null,
      "outputs": [
        {
          "output_type": "stream",
          "name": "stdout",
          "text": [
            "(1425, 100)\n",
            "(1425,)\n"
          ]
        },
        {
          "output_type": "execute_result",
          "data": {
            "text/plain": [
              "(None, None)"
            ]
          },
          "metadata": {},
          "execution_count": 27
        }
      ]
    },
    {
      "cell_type": "code",
      "source": [
        "\n",
        "print(X_test.shape), print(ytest.shape)\n"
      ],
      "metadata": {
        "colab": {
          "base_uri": "https://localhost:8080/"
        },
        "id": "zqWYT5QmWJQS",
        "outputId": "63656bbd-9ef4-4aa3-a19c-f40938f72236"
      },
      "execution_count": null,
      "outputs": [
        {
          "output_type": "stream",
          "name": "stdout",
          "text": [
            "(408, 100)\n",
            "(408,)\n"
          ]
        },
        {
          "output_type": "execute_result",
          "data": {
            "text/plain": [
              "(None, None)"
            ]
          },
          "metadata": {},
          "execution_count": 28
        }
      ]
    },
    {
      "cell_type": "markdown",
      "source": [
        "#Creating an Stacked LSTM Model."
      ],
      "metadata": {
        "id": "qM-Htql5dR8y"
      }
    },
    {
      "cell_type": "code",
      "source": [
        "X_train =X_train.reshape(X_train.shape[0],X_train.shape[1] , 1)\n",
        "X_test = X_test.reshape(X_test.shape[0],X_test.shape[1] , 1)\n"
      ],
      "metadata": {
        "id": "zGMo03H2WUvu"
      },
      "execution_count": null,
      "outputs": []
    },
    {
      "cell_type": "code",
      "source": [
        "\n",
        "from tensorflow.keras.models import Sequential\n",
        "from tensorflow.keras.layers import Dense\n",
        "from tensorflow.keras.layers import LSTM\n",
        "\n",
        "\n",
        "# defining the sequential model\n",
        "\n",
        "model=Sequential()\n",
        "\n",
        "model.add(LSTM(50,return_sequences=True,input_shape=(X_train.shape[1],1)))\n",
        "model.add(LSTM(50,return_sequences=True))\n",
        "model.add(LSTM(50))\n",
        "model.add(Dense(1))\n",
        "\n",
        "model.compile(loss='mean_squared_error', optimizer='adam')\n",
        "\n",
        "\n",
        "model.summary()"
      ],
      "metadata": {
        "colab": {
          "base_uri": "https://localhost:8080/"
        },
        "id": "ddkBuPx4WZQX",
        "outputId": "590e6269-b67a-47ea-ea9b-be778ee53a14"
      },
      "execution_count": null,
      "outputs": [
        {
          "output_type": "stream",
          "name": "stdout",
          "text": [
            "Model: \"sequential_1\"\n",
            "_________________________________________________________________\n",
            " Layer (type)                Output Shape              Param #   \n",
            "=================================================================\n",
            " lstm (LSTM)                 (None, 100, 50)           10400     \n",
            "                                                                 \n",
            " lstm_1 (LSTM)               (None, 100, 50)           20200     \n",
            "                                                                 \n",
            " lstm_2 (LSTM)               (None, 50)                20200     \n",
            "                                                                 \n",
            " dense (Dense)               (None, 1)                 51        \n",
            "                                                                 \n",
            "=================================================================\n",
            "Total params: 50,851\n",
            "Trainable params: 50,851\n",
            "Non-trainable params: 0\n",
            "_________________________________________________________________\n"
          ]
        }
      ]
    },
    {
      "cell_type": "code",
      "source": [
        "model.fit(X_train,y_train,validation_data=(X_test,ytest),epochs=100,batch_size=64,verbose=1)\n"
      ],
      "metadata": {
        "colab": {
          "base_uri": "https://localhost:8080/"
        },
        "id": "bguKVOsjT-87",
        "outputId": "df511139-28f4-4a5d-ee92-fc231162d8ac"
      },
      "execution_count": null,
      "outputs": [
        {
          "output_type": "stream",
          "name": "stdout",
          "text": [
            "Epoch 1/100\n",
            "23/23 [==============================] - 12s 255ms/step - loss: 0.0370 - val_loss: 0.0071\n",
            "Epoch 2/100\n",
            "23/23 [==============================] - 6s 252ms/step - loss: 0.0034 - val_loss: 0.0011\n",
            "Epoch 3/100\n",
            "23/23 [==============================] - 5s 222ms/step - loss: 0.0017 - val_loss: 0.0021\n",
            "Epoch 4/100\n",
            "23/23 [==============================] - 6s 257ms/step - loss: 0.0014 - val_loss: 0.0012\n",
            "Epoch 5/100\n",
            "23/23 [==============================] - 5s 201ms/step - loss: 0.0014 - val_loss: 0.0014\n",
            "Epoch 6/100\n",
            "23/23 [==============================] - 6s 269ms/step - loss: 0.0013 - val_loss: 0.0015\n",
            "Epoch 7/100\n",
            "23/23 [==============================] - 6s 250ms/step - loss: 0.0012 - val_loss: 0.0016\n",
            "Epoch 8/100\n",
            "23/23 [==============================] - 5s 200ms/step - loss: 0.0012 - val_loss: 9.2316e-04\n",
            "Epoch 9/100\n",
            "23/23 [==============================] - 6s 258ms/step - loss: 0.0013 - val_loss: 0.0016\n",
            "Epoch 10/100\n",
            "23/23 [==============================] - 5s 201ms/step - loss: 0.0011 - val_loss: 0.0010\n",
            "Epoch 11/100\n",
            "23/23 [==============================] - 5s 204ms/step - loss: 0.0010 - val_loss: 9.8333e-04\n",
            "Epoch 12/100\n",
            "23/23 [==============================] - 6s 253ms/step - loss: 0.0010 - val_loss: 0.0012\n",
            "Epoch 13/100\n",
            "23/23 [==============================] - 5s 203ms/step - loss: 9.9069e-04 - val_loss: 8.8034e-04\n",
            "Epoch 14/100\n",
            "23/23 [==============================] - 6s 255ms/step - loss: 9.1704e-04 - val_loss: 0.0011\n",
            "Epoch 15/100\n",
            "23/23 [==============================] - 5s 200ms/step - loss: 8.6698e-04 - val_loss: 0.0010\n",
            "Epoch 16/100\n",
            "23/23 [==============================] - 5s 201ms/step - loss: 8.5518e-04 - val_loss: 7.0717e-04\n",
            "Epoch 17/100\n",
            "23/23 [==============================] - 6s 256ms/step - loss: 8.5741e-04 - val_loss: 7.1105e-04\n",
            "Epoch 18/100\n",
            "23/23 [==============================] - 5s 205ms/step - loss: 8.0534e-04 - val_loss: 5.4925e-04\n",
            "Epoch 19/100\n",
            "23/23 [==============================] - 8s 347ms/step - loss: 8.0568e-04 - val_loss: 9.0203e-04\n",
            "Epoch 20/100\n",
            "23/23 [==============================] - 10s 428ms/step - loss: 7.7017e-04 - val_loss: 8.4252e-04\n",
            "Epoch 21/100\n",
            "23/23 [==============================] - 5s 232ms/step - loss: 8.3033e-04 - val_loss: 8.1602e-04\n",
            "Epoch 22/100\n",
            "23/23 [==============================] - 5s 205ms/step - loss: 8.2731e-04 - val_loss: 5.8569e-04\n",
            "Epoch 23/100\n",
            "23/23 [==============================] - 6s 262ms/step - loss: 7.8600e-04 - val_loss: 8.6166e-04\n",
            "Epoch 24/100\n",
            "23/23 [==============================] - 5s 206ms/step - loss: 7.3337e-04 - val_loss: 6.5734e-04\n",
            "Epoch 25/100\n",
            "23/23 [==============================] - 5s 225ms/step - loss: 6.8123e-04 - val_loss: 7.3404e-04\n",
            "Epoch 26/100\n",
            "23/23 [==============================] - 5s 226ms/step - loss: 6.9005e-04 - val_loss: 7.0168e-04\n",
            "Epoch 27/100\n",
            "23/23 [==============================] - 5s 204ms/step - loss: 6.4087e-04 - val_loss: 5.8131e-04\n",
            "Epoch 28/100\n",
            "23/23 [==============================] - 6s 258ms/step - loss: 6.9246e-04 - val_loss: 7.6971e-04\n",
            "Epoch 29/100\n",
            "23/23 [==============================] - 5s 204ms/step - loss: 6.3976e-04 - val_loss: 8.0444e-04\n",
            "Epoch 30/100\n",
            "23/23 [==============================] - 5s 224ms/step - loss: 6.1686e-04 - val_loss: 5.7050e-04\n",
            "Epoch 31/100\n",
            "23/23 [==============================] - 7s 291ms/step - loss: 6.1469e-04 - val_loss: 6.4235e-04\n",
            "Epoch 32/100\n",
            "23/23 [==============================] - 5s 203ms/step - loss: 6.1050e-04 - val_loss: 6.9694e-04\n",
            "Epoch 33/100\n",
            "23/23 [==============================] - 6s 260ms/step - loss: 5.6944e-04 - val_loss: 6.3874e-04\n",
            "Epoch 34/100\n",
            "23/23 [==============================] - 5s 203ms/step - loss: 6.8981e-04 - val_loss: 5.0032e-04\n",
            "Epoch 35/100\n",
            "23/23 [==============================] - 5s 208ms/step - loss: 8.0741e-04 - val_loss: 6.3608e-04\n",
            "Epoch 36/100\n",
            "23/23 [==============================] - 7s 299ms/step - loss: 6.5164e-04 - val_loss: 5.3436e-04\n",
            "Epoch 37/100\n",
            "23/23 [==============================] - 5s 213ms/step - loss: 5.6514e-04 - val_loss: 9.2018e-04\n",
            "Epoch 38/100\n",
            "23/23 [==============================] - 6s 259ms/step - loss: 5.5056e-04 - val_loss: 5.4434e-04\n",
            "Epoch 39/100\n",
            "23/23 [==============================] - 5s 202ms/step - loss: 5.5439e-04 - val_loss: 5.8569e-04\n",
            "Epoch 40/100\n",
            "23/23 [==============================] - 5s 240ms/step - loss: 6.0022e-04 - val_loss: 6.2166e-04\n",
            "Epoch 41/100\n",
            "23/23 [==============================] - 5s 213ms/step - loss: 5.3004e-04 - val_loss: 5.1997e-04\n",
            "Epoch 42/100\n",
            "23/23 [==============================] - 5s 204ms/step - loss: 4.9644e-04 - val_loss: 5.2126e-04\n",
            "Epoch 43/100\n",
            "23/23 [==============================] - 6s 260ms/step - loss: 4.6838e-04 - val_loss: 4.4442e-04\n",
            "Epoch 44/100\n",
            "23/23 [==============================] - 5s 203ms/step - loss: 4.9340e-04 - val_loss: 4.1310e-04\n",
            "Epoch 45/100\n",
            "23/23 [==============================] - 5s 237ms/step - loss: 4.6358e-04 - val_loss: 4.1379e-04\n",
            "Epoch 46/100\n",
            "23/23 [==============================] - 5s 216ms/step - loss: 4.9353e-04 - val_loss: 5.1840e-04\n",
            "Epoch 47/100\n",
            "23/23 [==============================] - 5s 203ms/step - loss: 4.3875e-04 - val_loss: 5.2854e-04\n",
            "Epoch 48/100\n",
            "23/23 [==============================] - 6s 259ms/step - loss: 4.4371e-04 - val_loss: 3.9779e-04\n",
            "Epoch 49/100\n",
            "23/23 [==============================] - 5s 216ms/step - loss: 4.6437e-04 - val_loss: 3.9656e-04\n",
            "Epoch 50/100\n",
            "23/23 [==============================] - 6s 248ms/step - loss: 5.0359e-04 - val_loss: 5.0343e-04\n",
            "Epoch 51/100\n",
            "23/23 [==============================] - 5s 209ms/step - loss: 4.8606e-04 - val_loss: 6.3860e-04\n",
            "Epoch 52/100\n",
            "23/23 [==============================] - 5s 203ms/step - loss: 4.3964e-04 - val_loss: 3.7210e-04\n",
            "Epoch 53/100\n",
            "23/23 [==============================] - 6s 257ms/step - loss: 3.8194e-04 - val_loss: 4.7958e-04\n",
            "Epoch 54/100\n",
            "23/23 [==============================] - 5s 203ms/step - loss: 4.4130e-04 - val_loss: 5.1556e-04\n",
            "Epoch 55/100\n",
            "23/23 [==============================] - 5s 241ms/step - loss: 4.4526e-04 - val_loss: 4.9068e-04\n",
            "Epoch 56/100\n",
            "23/23 [==============================] - 6s 275ms/step - loss: 3.9038e-04 - val_loss: 4.7507e-04\n",
            "Epoch 57/100\n",
            "23/23 [==============================] - 5s 205ms/step - loss: 3.4874e-04 - val_loss: 4.6677e-04\n",
            "Epoch 58/100\n",
            "23/23 [==============================] - 6s 259ms/step - loss: 3.4829e-04 - val_loss: 4.0614e-04\n",
            "Epoch 59/100\n",
            "23/23 [==============================] - 5s 203ms/step - loss: 3.6961e-04 - val_loss: 3.1001e-04\n",
            "Epoch 60/100\n",
            "23/23 [==============================] - 5s 215ms/step - loss: 3.6663e-04 - val_loss: 3.1457e-04\n",
            "Epoch 61/100\n",
            "23/23 [==============================] - 6s 241ms/step - loss: 3.4952e-04 - val_loss: 2.8225e-04\n",
            "Epoch 62/100\n",
            "23/23 [==============================] - 5s 203ms/step - loss: 3.4144e-04 - val_loss: 4.4119e-04\n",
            "Epoch 63/100\n",
            "23/23 [==============================] - 6s 261ms/step - loss: 3.3074e-04 - val_loss: 3.4754e-04\n",
            "Epoch 64/100\n",
            "23/23 [==============================] - 5s 202ms/step - loss: 3.0622e-04 - val_loss: 3.1111e-04\n",
            "Epoch 65/100\n",
            "23/23 [==============================] - 5s 213ms/step - loss: 3.3715e-04 - val_loss: 3.1335e-04\n",
            "Epoch 66/100\n",
            "23/23 [==============================] - 6s 238ms/step - loss: 3.1234e-04 - val_loss: 2.6942e-04\n",
            "Epoch 67/100\n",
            "23/23 [==============================] - 5s 203ms/step - loss: 3.1512e-04 - val_loss: 2.9645e-04\n",
            "Epoch 68/100\n",
            "23/23 [==============================] - 6s 258ms/step - loss: 4.1180e-04 - val_loss: 2.3393e-04\n",
            "Epoch 69/100\n",
            "23/23 [==============================] - 5s 203ms/step - loss: 3.5327e-04 - val_loss: 2.3195e-04\n",
            "Epoch 70/100\n",
            "23/23 [==============================] - 5s 214ms/step - loss: 3.3455e-04 - val_loss: 2.8110e-04\n",
            "Epoch 71/100\n",
            "23/23 [==============================] - 6s 242ms/step - loss: 2.9411e-04 - val_loss: 2.4062e-04\n",
            "Epoch 72/100\n",
            "23/23 [==============================] - 5s 203ms/step - loss: 2.8423e-04 - val_loss: 2.8086e-04\n",
            "Epoch 73/100\n",
            "23/23 [==============================] - 6s 258ms/step - loss: 2.7590e-04 - val_loss: 2.2663e-04\n",
            "Epoch 74/100\n",
            "23/23 [==============================] - 5s 203ms/step - loss: 2.7986e-04 - val_loss: 3.1733e-04\n",
            "Epoch 75/100\n",
            "23/23 [==============================] - 5s 205ms/step - loss: 2.7946e-04 - val_loss: 3.2017e-04\n",
            "Epoch 76/100\n",
            "23/23 [==============================] - 7s 311ms/step - loss: 2.7665e-04 - val_loss: 3.5779e-04\n",
            "Epoch 77/100\n",
            "23/23 [==============================] - 5s 203ms/step - loss: 2.6653e-04 - val_loss: 2.1421e-04\n",
            "Epoch 78/100\n",
            "23/23 [==============================] - 6s 261ms/step - loss: 3.0849e-04 - val_loss: 2.9197e-04\n",
            "Epoch 79/100\n",
            "23/23 [==============================] - 5s 204ms/step - loss: 3.2381e-04 - val_loss: 2.0579e-04\n",
            "Epoch 80/100\n",
            "23/23 [==============================] - 5s 204ms/step - loss: 3.6089e-04 - val_loss: 2.2859e-04\n",
            "Epoch 81/100\n",
            "23/23 [==============================] - 6s 257ms/step - loss: 2.8724e-04 - val_loss: 2.8275e-04\n",
            "Epoch 82/100\n",
            "23/23 [==============================] - 5s 202ms/step - loss: 2.8098e-04 - val_loss: 2.1512e-04\n",
            "Epoch 83/100\n",
            "23/23 [==============================] - 6s 257ms/step - loss: 2.6696e-04 - val_loss: 2.5508e-04\n",
            "Epoch 84/100\n",
            "23/23 [==============================] - 5s 204ms/step - loss: 3.7325e-04 - val_loss: 2.6193e-04\n",
            "Epoch 85/100\n",
            "23/23 [==============================] - 5s 204ms/step - loss: 3.6287e-04 - val_loss: 2.5146e-04\n",
            "Epoch 86/100\n",
            "23/23 [==============================] - 6s 259ms/step - loss: 3.4442e-04 - val_loss: 3.0222e-04\n",
            "Epoch 87/100\n",
            "23/23 [==============================] - 5s 205ms/step - loss: 3.1893e-04 - val_loss: 4.3069e-04\n",
            "Epoch 88/100\n",
            "23/23 [==============================] - 6s 257ms/step - loss: 2.5972e-04 - val_loss: 3.0310e-04\n",
            "Epoch 89/100\n",
            "23/23 [==============================] - 5s 202ms/step - loss: 2.4292e-04 - val_loss: 2.3052e-04\n",
            "Epoch 90/100\n",
            "23/23 [==============================] - 5s 204ms/step - loss: 2.4963e-04 - val_loss: 2.3508e-04\n",
            "Epoch 91/100\n",
            "23/23 [==============================] - 6s 259ms/step - loss: 3.0289e-04 - val_loss: 3.4988e-04\n",
            "Epoch 92/100\n",
            "23/23 [==============================] - 5s 205ms/step - loss: 3.1025e-04 - val_loss: 2.3466e-04\n",
            "Epoch 93/100\n",
            "23/23 [==============================] - 6s 256ms/step - loss: 2.5790e-04 - val_loss: 2.2226e-04\n",
            "Epoch 94/100\n",
            "23/23 [==============================] - 5s 203ms/step - loss: 2.3646e-04 - val_loss: 2.1597e-04\n",
            "Epoch 95/100\n",
            "23/23 [==============================] - 5s 203ms/step - loss: 2.6227e-04 - val_loss: 3.6749e-04\n",
            "Epoch 96/100\n",
            "23/23 [==============================] - 6s 259ms/step - loss: 2.7441e-04 - val_loss: 2.6145e-04\n",
            "Epoch 97/100\n",
            "23/23 [==============================] - 5s 203ms/step - loss: 2.5242e-04 - val_loss: 2.2394e-04\n",
            "Epoch 98/100\n",
            "23/23 [==============================] - 6s 254ms/step - loss: 2.6856e-04 - val_loss: 1.7891e-04\n",
            "Epoch 99/100\n",
            "23/23 [==============================] - 5s 203ms/step - loss: 2.4655e-04 - val_loss: 1.7989e-04\n",
            "Epoch 100/100\n",
            "23/23 [==============================] - 5s 205ms/step - loss: 2.3527e-04 - val_loss: 2.3057e-04\n"
          ]
        },
        {
          "output_type": "execute_result",
          "data": {
            "text/plain": [
              "<keras.callbacks.History at 0x7ed8dbc638e0>"
            ]
          },
          "metadata": {},
          "execution_count": 31
        }
      ]
    },
    {
      "cell_type": "markdown",
      "source": [
        "#Predict the test data and plot the output."
      ],
      "metadata": {
        "id": "CerfDgfIdWsq"
      }
    },
    {
      "cell_type": "code",
      "source": [
        "train_predict=model.predict(X_train)\n",
        "test_predict=model.predict(X_test)\n",
        "\n",
        "\n",
        "# Transforming the results back to original scale\n",
        "\n",
        "train_predict=scaler.inverse_transform(train_predict)\n",
        "test_predict=scaler.inverse_transform(test_predict)\n",
        "\n",
        "\n",
        "# Computing the RSME matrices\n",
        "\n",
        "\n",
        "math.sqrt(mean_squared_error(y_train,train_predict))"
      ],
      "metadata": {
        "colab": {
          "base_uri": "https://localhost:8080/"
        },
        "id": "-VzX2sjcWr87",
        "outputId": "357ca78e-1e1e-4eee-c61f-b0f5166920bc"
      },
      "execution_count": null,
      "outputs": [
        {
          "output_type": "stream",
          "name": "stdout",
          "text": [
            "45/45 [==============================] - 3s 57ms/step\n",
            "13/13 [==============================] - 1s 67ms/step\n"
          ]
        },
        {
          "output_type": "execute_result",
          "data": {
            "text/plain": [
              "164.91289808539793"
            ]
          },
          "metadata": {},
          "execution_count": 35
        }
      ]
    },
    {
      "cell_type": "code",
      "source": [
        "from sklearn.metrics import mean_squared_error\n",
        "import math\n",
        "\n",
        "# Calculate the root mean squared error\n",
        "rmse = math.sqrt(mean_squared_error(ytest, test_predict))\n",
        "\n",
        "math.sqrt(mean_squared_error(ytest,test_predict))"
      ],
      "metadata": {
        "colab": {
          "base_uri": "https://localhost:8080/"
        },
        "id": "_1Sw_74cY7p8",
        "outputId": "f1531893-18c9-47f5-cb51-2a319ad2df54"
      },
      "execution_count": null,
      "outputs": [
        {
          "output_type": "execute_result",
          "data": {
            "text/plain": [
              "106.62217539272694"
            ]
          },
          "metadata": {},
          "execution_count": 37
        }
      ]
    },
    {
      "cell_type": "code",
      "source": [
        "\n",
        "# Plotting the results\n",
        "\n",
        "# shift train predictions for plotting\n",
        "look_back=100 #timestamp\n",
        "trainPredictPlot = np.empty_like(df)\n",
        "trainPredictPlot[:, :] = np.nan\n",
        "trainPredictPlot[look_back:len(train_predict)+look_back, :] = train_predict\n",
        "\n",
        "# shift test predictions for plotting\n",
        "testPredictPlot = np.empty_like(df)\n",
        "testPredictPlot[:, :] = np.nan\n",
        "testPredictPlot[len(train_predict)+(look_back*2)+1:len(df)-1, :] = test_predict\n",
        "\n",
        "# plotting the train_predict and test_predict on the same plot as true data.\n",
        "plt.plot(scaler.inverse_transform(df)) # to scale the data back to original scale.\n",
        "plt.plot(trainPredictPlot)\n",
        "plt.plot(testPredictPlot)\n",
        "plt.show()\n"
      ],
      "metadata": {
        "colab": {
          "base_uri": "https://localhost:8080/",
          "height": 430
        },
        "id": "uDmJrCX9Z5sh",
        "outputId": "b2b4ec6b-bf7c-4ef7-90c0-a0c889f24827"
      },
      "execution_count": null,
      "outputs": [
        {
          "output_type": "display_data",
          "data": {
            "text/plain": [
              "<Figure size 640x480 with 1 Axes>"
            ],
            "image/png": "[encoded data removed]"
          },
          "metadata": {}
        }
      ]
    },
    {
      "cell_type": "markdown",
      "source": [
        "#Predict the stock price for future 30 days."
      ],
      "metadata": {
        "id": "1zT2ZMMMdbjz"
      }
    },
    {
      "cell_type": "code",
      "source": [
        "len(test_data)"
      ],
      "metadata": {
        "colab": {
          "base_uri": "https://localhost:8080/"
        },
        "id": "rcUQebWsaDGX",
        "outputId": "a3b25a72-5194-4e43-e9bc-c34cb2b763bb"
      },
      "execution_count": null,
      "outputs": [
        {
          "output_type": "execute_result",
          "data": {
            "text/plain": [
              "509"
            ]
          },
          "metadata": {},
          "execution_count": 39
        }
      ]
    },
    {
      "cell_type": "code",
      "source": [
        "x_input=test_data[413:].reshape(1,-1)\n",
        "x_input.shape"
      ],
      "metadata": {
        "colab": {
          "base_uri": "https://localhost:8080/"
        },
        "id": "cRoC0e1yaJEW",
        "outputId": "b54aa14f-90bc-499d-b94e-8cd6153962e4"
      },
      "execution_count": null,
      "outputs": [
        {
          "output_type": "execute_result",
          "data": {
            "text/plain": [
              "(1, 96)"
            ]
          },
          "metadata": {},
          "execution_count": 41
        }
      ]
    },
    {
      "cell_type": "code",
      "source": [
        "temp_input=list(x_input)\n",
        "temp_input=temp_input[0].tolist()"
      ],
      "metadata": {
        "id": "vITXuK7taXSi"
      },
      "execution_count": null,
      "outputs": []
    },
    {
      "cell_type": "code",
      "source": [
        "# demonstrate prediction for next 30 days\n",
        "from numpy import array\n",
        "\n",
        "lst_output=[]\n",
        "n_steps=96\n",
        "i=0\n",
        "while(i<30):\n",
        "\n",
        "    if(len(temp_input)>96):\n",
        "        #print(temp_input)\n",
        "        x_input=np.array(temp_input[1:])\n",
        "        print(\"{} day input {}\".format(i,x_input))\n",
        "        x_input=x_input.reshape(1,-1)\n",
        "        x_input = x_input.reshape((1, n_steps, 1))\n",
        "        #print(x_input)\n",
        "        yhat = model.predict(x_input, verbose=0)\n",
        "        print(\"{} day output {}\".format(i,yhat))\n",
        "        temp_input.extend(yhat[0].tolist())\n",
        "        temp_input=temp_input[1:]\n",
        "        #print(temp_input)\n",
        "        lst_output.extend(yhat.tolist())\n",
        "        i=i+1\n",
        "    else:\n",
        "        x_input = x_input.reshape((1, n_steps,1))\n",
        "        yhat = model.predict(x_input, verbose=0)\n",
        "        print(yhat[0])\n",
        "        temp_input.extend(yhat[0].tolist())\n",
        "        print(len(temp_input))\n",
        "        lst_output.extend(yhat.tolist())\n",
        "        i=i+1\n",
        "\n",
        "\n",
        "print(lst_output)\n"
      ],
      "metadata": {
        "colab": {
          "base_uri": "https://localhost:8080/"
        },
        "id": "ZeD71F78adXw",
        "outputId": "bd9742d6-9857-4935-810d-b602327b309b"
      },
      "execution_count": null,
      "outputs": [
        {
          "output_type": "stream",
          "name": "stdout",
          "text": [
            "[0.16950615]\n",
            "97\n",
            "1 day input [0.19525547 0.20437956 0.19870235 0.21796431 0.21553122 0.20600162\n",
            " 0.21654501 0.21654501 0.2175588  0.19870235 0.19018654 0.17802109\n",
            " 0.175588   0.16301703 0.16707218 0.17112733 0.17639903 0.18349554\n",
            " 0.1717356  0.16423358 0.16991079 0.17619627 0.16788321 0.16909976\n",
            " 0.17396594 0.17741281 0.18268451 0.19221411 0.18896999 0.19018654\n",
            " 0.17396594 0.17092457 0.16788321 0.17477697 0.16443633 0.14557989\n",
            " 0.15287916 0.15369019 0.15044607 0.14152474 0.15145985 0.13341444\n",
            " 0.12530414 0.11719384 0.11780211 0.12489862 0.14132198 0.13098135\n",
            " 0.12935929 0.13240065 0.12895377 0.12530414 0.13381995 0.14557989\n",
            " 0.15166261 0.15085158 0.14679643 0.14355231 0.12733171 0.14963504\n",
            " 0.14801298 0.15815085 0.16504461 0.15896188 0.16626115 0.16950615\n",
            " 0.16950615 0.16950615 0.16950615 0.16950615 0.16950615 0.16950615\n",
            " 0.16950615 0.16950615 0.16950615 0.16950615 0.16950615 0.16950615\n",
            " 0.16950615 0.16950615 0.16950615 0.16950615 0.16950615 0.16950615\n",
            " 0.16950615 0.16950615 0.16950615 0.16950615 0.16950615 0.16950615\n",
            " 0.16950615 0.16950615 0.16950615 0.16950615 0.16950615 0.16950615]\n",
            "1 day output [[0.17418867]]\n",
            "2 day input [0.20437956 0.19870235 0.21796431 0.21553122 0.20600162 0.21654501\n",
            " 0.21654501 0.2175588  0.19870235 0.19018654 0.17802109 0.175588\n",
            " 0.16301703 0.16707218 0.17112733 0.17639903 0.18349554 0.1717356\n",
            " 0.16423358 0.16991079 0.17619627 0.16788321 0.16909976 0.17396594\n",
            " 0.17741281 0.18268451 0.19221411 0.18896999 0.19018654 0.17396594\n",
            " 0.17092457 0.16788321 0.17477697 0.16443633 0.14557989 0.15287916\n",
            " 0.15369019 0.15044607 0.14152474 0.15145985 0.13341444 0.12530414\n",
            " 0.11719384 0.11780211 0.12489862 0.14132198 0.13098135 0.12935929\n",
            " 0.13240065 0.12895377 0.12530414 0.13381995 0.14557989 0.15166261\n",
            " 0.15085158 0.14679643 0.14355231 0.12733171 0.14963504 0.14801298\n",
            " 0.15815085 0.16504461 0.15896188 0.16626115 0.16950615 0.16950615\n",
            " 0.16950615 0.16950615 0.16950615 0.16950615 0.16950615 0.16950615\n",
            " 0.16950615 0.16950615 0.16950615 0.16950615 0.16950615 0.16950615\n",
            " 0.16950615 0.16950615 0.16950615 0.16950615 0.16950615 0.16950615\n",
            " 0.16950615 0.16950615 0.16950615 0.16950615 0.16950615 0.16950615\n",
            " 0.16950615 0.16950615 0.16950615 0.16950615 0.16950615 0.17418867]\n",
            "2 day output [[0.17590494]]\n",
            "3 day input [0.19870235 0.21796431 0.21553122 0.20600162 0.21654501 0.21654501\n",
            " 0.2175588  0.19870235 0.19018654 0.17802109 0.175588   0.16301703\n",
            " 0.16707218 0.17112733 0.17639903 0.18349554 0.1717356  0.16423358\n",
            " 0.16991079 0.17619627 0.16788321 0.16909976 0.17396594 0.17741281\n",
            " 0.18268451 0.19221411 0.18896999 0.19018654 0.17396594 0.17092457\n",
            " 0.16788321 0.17477697 0.16443633 0.14557989 0.15287916 0.15369019\n",
            " 0.15044607 0.14152474 0.15145985 0.13341444 0.12530414 0.11719384\n",
            " 0.11780211 0.12489862 0.14132198 0.13098135 0.12935929 0.13240065\n",
            " 0.12895377 0.12530414 0.13381995 0.14557989 0.15166261 0.15085158\n",
            " 0.14679643 0.14355231 0.12733171 0.14963504 0.14801298 0.15815085\n",
            " 0.16504461 0.15896188 0.16626115 0.16950615 0.16950615 0.16950615\n",
            " 0.16950615 0.16950615 0.16950615 0.16950615 0.16950615 0.16950615\n",
            " 0.16950615 0.16950615 0.16950615 0.16950615 0.16950615 0.16950615\n",
            " 0.16950615 0.16950615 0.16950615 0.16950615 0.16950615 0.16950615\n",
            " 0.16950615 0.16950615 0.16950615 0.16950615 0.16950615 0.16950615\n",
            " 0.16950615 0.16950615 0.16950615 0.16950615 0.17418867 0.17590494]\n",
            "3 day output [[0.17834581]]\n",
            "4 day input [0.21796431 0.21553122 0.20600162 0.21654501 0.21654501 0.2175588\n",
            " 0.19870235 0.19018654 0.17802109 0.175588   0.16301703 0.16707218\n",
            " 0.17112733 0.17639903 0.18349554 0.1717356  0.16423358 0.16991079\n",
            " 0.17619627 0.16788321 0.16909976 0.17396594 0.17741281 0.18268451\n",
            " 0.19221411 0.18896999 0.19018654 0.17396594 0.17092457 0.16788321\n",
            " 0.17477697 0.16443633 0.14557989 0.15287916 0.15369019 0.15044607\n",
            " 0.14152474 0.15145985 0.13341444 0.12530414 0.11719384 0.11780211\n",
            " 0.12489862 0.14132198 0.13098135 0.12935929 0.13240065 0.12895377\n",
            " 0.12530414 0.13381995 0.14557989 0.15166261 0.15085158 0.14679643\n",
            " 0.14355231 0.12733171 0.14963504 0.14801298 0.15815085 0.16504461\n",
            " 0.15896188 0.16626115 0.16950615 0.16950615 0.16950615 0.16950615\n",
            " 0.16950615 0.16950615 0.16950615 0.16950615 0.16950615 0.16950615\n",
            " 0.16950615 0.16950615 0.16950615 0.16950615 0.16950615 0.16950615\n",
            " 0.16950615 0.16950615 0.16950615 0.16950615 0.16950615 0.16950615\n",
            " 0.16950615 0.16950615 0.16950615 0.16950615 0.16950615 0.16950615\n",
            " 0.16950615 0.16950615 0.16950615 0.17418867 0.17590494 0.17834581]\n",
            "4 day output [[0.18099542]]\n",
            "5 day input [0.21553122 0.20600162 0.21654501 0.21654501 0.2175588  0.19870235\n",
            " 0.19018654 0.17802109 0.175588   0.16301703 0.16707218 0.17112733\n",
            " 0.17639903 0.18349554 0.1717356  0.16423358 0.16991079 0.17619627\n",
            " 0.16788321 0.16909976 0.17396594 0.17741281 0.18268451 0.19221411\n",
            " 0.18896999 0.19018654 0.17396594 0.17092457 0.16788321 0.17477697\n",
            " 0.16443633 0.14557989 0.15287916 0.15369019 0.15044607 0.14152474\n",
            " 0.15145985 0.13341444 0.12530414 0.11719384 0.11780211 0.12489862\n",
            " 0.14132198 0.13098135 0.12935929 0.13240065 0.12895377 0.12530414\n",
            " 0.13381995 0.14557989 0.15166261 0.15085158 0.14679643 0.14355231\n",
            " 0.12733171 0.14963504 0.14801298 0.15815085 0.16504461 0.15896188\n",
            " 0.16626115 0.16950615 0.16950615 0.16950615 0.16950615 0.16950615\n",
            " 0.16950615 0.16950615 0.16950615 0.16950615 0.16950615 0.16950615\n",
            " 0.16950615 0.16950615 0.16950615 0.16950615 0.16950615 0.16950615\n",
            " 0.16950615 0.16950615 0.16950615 0.16950615 0.16950615 0.16950615\n",
            " 0.16950615 0.16950615 0.16950615 0.16950615 0.16950615 0.16950615\n",
            " 0.16950615 0.16950615 0.17418867 0.17590494 0.17834581 0.18099542]\n",
            "5 day output [[0.18368028]]\n",
            "6 day input [0.20600162 0.21654501 0.21654501 0.2175588  0.19870235 0.19018654\n",
            " 0.17802109 0.175588   0.16301703 0.16707218 0.17112733 0.17639903\n",
            " 0.18349554 0.1717356  0.16423358 0.16991079 0.17619627 0.16788321\n",
            " 0.16909976 0.17396594 0.17741281 0.18268451 0.19221411 0.18896999\n",
            " 0.19018654 0.17396594 0.17092457 0.16788321 0.17477697 0.16443633\n",
            " 0.14557989 0.15287916 0.15369019 0.15044607 0.14152474 0.15145985\n",
            " 0.13341444 0.12530414 0.11719384 0.11780211 0.12489862 0.14132198\n",
            " 0.13098135 0.12935929 0.13240065 0.12895377 0.12530414 0.13381995\n",
            " 0.14557989 0.15166261 0.15085158 0.14679643 0.14355231 0.12733171\n",
            " 0.14963504 0.14801298 0.15815085 0.16504461 0.15896188 0.16626115\n",
            " 0.16950615 0.16950615 0.16950615 0.16950615 0.16950615 0.16950615\n",
            " 0.16950615 0.16950615 0.16950615 0.16950615 0.16950615 0.16950615\n",
            " 0.16950615 0.16950615 0.16950615 0.16950615 0.16950615 0.16950615\n",
            " 0.16950615 0.16950615 0.16950615 0.16950615 0.16950615 0.16950615\n",
            " 0.16950615 0.16950615 0.16950615 0.16950615 0.16950615 0.16950615\n",
            " 0.16950615 0.17418867 0.17590494 0.17834581 0.18099542 0.18368028]\n",
            "6 day output [[0.18634284]]\n",
            "7 day input [0.21654501 0.21654501 0.2175588  0.19870235 0.19018654 0.17802109\n",
            " 0.175588   0.16301703 0.16707218 0.17112733 0.17639903 0.18349554\n",
            " 0.1717356  0.16423358 0.16991079 0.17619627 0.16788321 0.16909976\n",
            " 0.17396594 0.17741281 0.18268451 0.19221411 0.18896999 0.19018654\n",
            " 0.17396594 0.17092457 0.16788321 0.17477697 0.16443633 0.14557989\n",
            " 0.15287916 0.15369019 0.15044607 0.14152474 0.15145985 0.13341444\n",
            " 0.12530414 0.11719384 0.11780211 0.12489862 0.14132198 0.13098135\n",
            " 0.12935929 0.13240065 0.12895377 0.12530414 0.13381995 0.14557989\n",
            " 0.15166261 0.15085158 0.14679643 0.14355231 0.12733171 0.14963504\n",
            " 0.14801298 0.15815085 0.16504461 0.15896188 0.16626115 0.16950615\n",
            " 0.16950615 0.16950615 0.16950615 0.16950615 0.16950615 0.16950615\n",
            " 0.16950615 0.16950615 0.16950615 0.16950615 0.16950615 0.16950615\n",
            " 0.16950615 0.16950615 0.16950615 0.16950615 0.16950615 0.16950615\n",
            " 0.16950615 0.16950615 0.16950615 0.16950615 0.16950615 0.16950615\n",
            " 0.16950615 0.16950615 0.16950615 0.16950615 0.16950615 0.16950615\n",
            " 0.17418867 0.17590494 0.17834581 0.18099542 0.18368028 0.18634284]\n",
            "7 day output [[0.18895705]]\n",
            "8 day input [0.21654501 0.2175588  0.19870235 0.19018654 0.17802109 0.175588\n",
            " 0.16301703 0.16707218 0.17112733 0.17639903 0.18349554 0.1717356\n",
            " 0.16423358 0.16991079 0.17619627 0.16788321 0.16909976 0.17396594\n",
            " 0.17741281 0.18268451 0.19221411 0.18896999 0.19018654 0.17396594\n",
            " 0.17092457 0.16788321 0.17477697 0.16443633 0.14557989 0.15287916\n",
            " 0.15369019 0.15044607 0.14152474 0.15145985 0.13341444 0.12530414\n",
            " 0.11719384 0.11780211 0.12489862 0.14132198 0.13098135 0.12935929\n",
            " 0.13240065 0.12895377 0.12530414 0.13381995 0.14557989 0.15166261\n",
            " 0.15085158 0.14679643 0.14355231 0.12733171 0.14963504 0.14801298\n",
            " 0.15815085 0.16504461 0.15896188 0.16626115 0.16950615 0.16950615\n",
            " 0.16950615 0.16950615 0.16950615 0.16950615 0.16950615 0.16950615\n",
            " 0.16950615 0.16950615 0.16950615 0.16950615 0.16950615 0.16950615\n",
            " 0.16950615 0.16950615 0.16950615 0.16950615 0.16950615 0.16950615\n",
            " 0.16950615 0.16950615 0.16950615 0.16950615 0.16950615 0.16950615\n",
            " 0.16950615 0.16950615 0.16950615 0.16950615 0.16950615 0.17418867\n",
            " 0.17590494 0.17834581 0.18099542 0.18368028 0.18634284 0.18895705]\n",
            "8 day output [[0.1915093]]\n",
            "9 day input [0.2175588  0.19870235 0.19018654 0.17802109 0.175588   0.16301703\n",
            " 0.16707218 0.17112733 0.17639903 0.18349554 0.1717356  0.16423358\n",
            " 0.16991079 0.17619627 0.16788321 0.16909976 0.17396594 0.17741281\n",
            " 0.18268451 0.19221411 0.18896999 0.19018654 0.17396594 0.17092457\n",
            " 0.16788321 0.17477697 0.16443633 0.14557989 0.15287916 0.15369019\n",
            " 0.15044607 0.14152474 0.15145985 0.13341444 0.12530414 0.11719384\n",
            " 0.11780211 0.12489862 0.14132198 0.13098135 0.12935929 0.13240065\n",
            " 0.12895377 0.12530414 0.13381995 0.14557989 0.15166261 0.15085158\n",
            " 0.14679643 0.14355231 0.12733171 0.14963504 0.14801298 0.15815085\n",
            " 0.16504461 0.15896188 0.16626115 0.16950615 0.16950615 0.16950615\n",
            " 0.16950615 0.16950615 0.16950615 0.16950615 0.16950615 0.16950615\n",
            " 0.16950615 0.16950615 0.16950615 0.16950615 0.16950615 0.16950615\n",
            " 0.16950615 0.16950615 0.16950615 0.16950615 0.16950615 0.16950615\n",
            " 0.16950615 0.16950615 0.16950615 0.16950615 0.16950615 0.16950615\n",
            " 0.16950615 0.16950615 0.16950615 0.16950615 0.17418867 0.17590494\n",
            " 0.17834581 0.18099542 0.18368028 0.18634284 0.18895705 0.19150931]\n",
            "9 day output [[0.19399442]]\n",
            "10 day input [0.19870235 0.19018654 0.17802109 0.175588   0.16301703 0.16707218\n",
            " 0.17112733 0.17639903 0.18349554 0.1717356  0.16423358 0.16991079\n",
            " 0.17619627 0.16788321 0.16909976 0.17396594 0.17741281 0.18268451\n",
            " 0.19221411 0.18896999 0.19018654 0.17396594 0.17092457 0.16788321\n",
            " 0.17477697 0.16443633 0.14557989 0.15287916 0.15369019 0.15044607\n",
            " 0.14152474 0.15145985 0.13341444 0.12530414 0.11719384 0.11780211\n",
            " 0.12489862 0.14132198 0.13098135 0.12935929 0.13240065 0.12895377\n",
            " 0.12530414 0.13381995 0.14557989 0.15166261 0.15085158 0.14679643\n",
            " 0.14355231 0.12733171 0.14963504 0.14801298 0.15815085 0.16504461\n",
            " 0.15896188 0.16626115 0.16950615 0.16950615 0.16950615 0.16950615\n",
            " 0.16950615 0.16950615 0.16950615 0.16950615 0.16950615 0.16950615\n",
            " 0.16950615 0.16950615 0.16950615 0.16950615 0.16950615 0.16950615\n",
            " 0.16950615 0.16950615 0.16950615 0.16950615 0.16950615 0.16950615\n",
            " 0.16950615 0.16950615 0.16950615 0.16950615 0.16950615 0.16950615\n",
            " 0.16950615 0.16950615 0.16950615 0.17418867 0.17590494 0.17834581\n",
            " 0.18099542 0.18368028 0.18634284 0.18895705 0.19150931 0.19399442]\n",
            "10 day output [[0.1964138]]\n",
            "11 day input [0.19018654 0.17802109 0.175588   0.16301703 0.16707218 0.17112733\n",
            " 0.17639903 0.18349554 0.1717356  0.16423358 0.16991079 0.17619627\n",
            " 0.16788321 0.16909976 0.17396594 0.17741281 0.18268451 0.19221411\n",
            " 0.18896999 0.19018654 0.17396594 0.17092457 0.16788321 0.17477697\n",
            " 0.16443633 0.14557989 0.15287916 0.15369019 0.15044607 0.14152474\n",
            " 0.15145985 0.13341444 0.12530414 0.11719384 0.11780211 0.12489862\n",
            " 0.14132198 0.13098135 0.12935929 0.13240065 0.12895377 0.12530414\n",
            " 0.13381995 0.14557989 0.15166261 0.15085158 0.14679643 0.14355231\n",
            " 0.12733171 0.14963504 0.14801298 0.15815085 0.16504461 0.15896188\n",
            " 0.16626115 0.16950615 0.16950615 0.16950615 0.16950615 0.16950615\n",
            " 0.16950615 0.16950615 0.16950615 0.16950615 0.16950615 0.16950615\n",
            " 0.16950615 0.16950615 0.16950615 0.16950615 0.16950615 0.16950615\n",
            " 0.16950615 0.16950615 0.16950615 0.16950615 0.16950615 0.16950615\n",
            " 0.16950615 0.16950615 0.16950615 0.16950615 0.16950615 0.16950615\n",
            " 0.16950615 0.16950615 0.17418867 0.17590494 0.17834581 0.18099542\n",
            " 0.18368028 0.18634284 0.18895705 0.19150931 0.19399442 0.1964138 ]\n",
            "11 day output [[0.19877289]]\n",
            "12 day input [0.17802109 0.175588   0.16301703 0.16707218 0.17112733 0.17639903\n",
            " 0.18349554 0.1717356  0.16423358 0.16991079 0.17619627 0.16788321\n",
            " 0.16909976 0.17396594 0.17741281 0.18268451 0.19221411 0.18896999\n",
            " 0.19018654 0.17396594 0.17092457 0.16788321 0.17477697 0.16443633\n",
            " 0.14557989 0.15287916 0.15369019 0.15044607 0.14152474 0.15145985\n",
            " 0.13341444 0.12530414 0.11719384 0.11780211 0.12489862 0.14132198\n",
            " 0.13098135 0.12935929 0.13240065 0.12895377 0.12530414 0.13381995\n",
            " 0.14557989 0.15166261 0.15085158 0.14679643 0.14355231 0.12733171\n",
            " 0.14963504 0.14801298 0.15815085 0.16504461 0.15896188 0.16626115\n",
            " 0.16950615 0.16950615 0.16950615 0.16950615 0.16950615 0.16950615\n",
            " 0.16950615 0.16950615 0.16950615 0.16950615 0.16950615 0.16950615\n",
            " 0.16950615 0.16950615 0.16950615 0.16950615 0.16950615 0.16950615\n",
            " 0.16950615 0.16950615 0.16950615 0.16950615 0.16950615 0.16950615\n",
            " 0.16950615 0.16950615 0.16950615 0.16950615 0.16950615 0.16950615\n",
            " 0.16950615 0.17418867 0.17590494 0.17834581 0.18099542 0.18368028\n",
            " 0.18634284 0.18895705 0.19150931 0.19399442 0.1964138  0.19877289]\n",
            "12 day output [[0.20107917]]\n",
            "13 day input [0.175588   0.16301703 0.16707218 0.17112733 0.17639903 0.18349554\n",
            " 0.1717356  0.16423358 0.16991079 0.17619627 0.16788321 0.16909976\n",
            " 0.17396594 0.17741281 0.18268451 0.19221411 0.18896999 0.19018654\n",
            " 0.17396594 0.17092457 0.16788321 0.17477697 0.16443633 0.14557989\n",
            " 0.15287916 0.15369019 0.15044607 0.14152474 0.15145985 0.13341444\n",
            " 0.12530414 0.11719384 0.11780211 0.12489862 0.14132198 0.13098135\n",
            " 0.12935929 0.13240065 0.12895377 0.12530414 0.13381995 0.14557989\n",
            " 0.15166261 0.15085158 0.14679643 0.14355231 0.12733171 0.14963504\n",
            " 0.14801298 0.15815085 0.16504461 0.15896188 0.16626115 0.16950615\n",
            " 0.16950615 0.16950615 0.16950615 0.16950615 0.16950615 0.16950615\n",
            " 0.16950615 0.16950615 0.16950615 0.16950615 0.16950615 0.16950615\n",
            " 0.16950615 0.16950615 0.16950615 0.16950615 0.16950615 0.16950615\n",
            " 0.16950615 0.16950615 0.16950615 0.16950615 0.16950615 0.16950615\n",
            " 0.16950615 0.16950615 0.16950615 0.16950615 0.16950615 0.16950615\n",
            " 0.17418867 0.17590494 0.17834581 0.18099542 0.18368028 0.18634284\n",
            " 0.18895705 0.19150931 0.19399442 0.1964138  0.19877289 0.20107917]\n",
            "13 day output [[0.20334025]]\n",
            "14 day input [0.16301703 0.16707218 0.17112733 0.17639903 0.18349554 0.1717356\n",
            " 0.16423358 0.16991079 0.17619627 0.16788321 0.16909976 0.17396594\n",
            " 0.17741281 0.18268451 0.19221411 0.18896999 0.19018654 0.17396594\n",
            " 0.17092457 0.16788321 0.17477697 0.16443633 0.14557989 0.15287916\n",
            " 0.15369019 0.15044607 0.14152474 0.15145985 0.13341444 0.12530414\n",
            " 0.11719384 0.11780211 0.12489862 0.14132198 0.13098135 0.12935929\n",
            " 0.13240065 0.12895377 0.12530414 0.13381995 0.14557989 0.15166261\n",
            " 0.15085158 0.14679643 0.14355231 0.12733171 0.14963504 0.14801298\n",
            " 0.15815085 0.16504461 0.15896188 0.16626115 0.16950615 0.16950615\n",
            " 0.16950615 0.16950615 0.16950615 0.16950615 0.16950615 0.16950615\n",
            " 0.16950615 0.16950615 0.16950615 0.16950615 0.16950615 0.16950615\n",
            " 0.16950615 0.16950615 0.16950615 0.16950615 0.16950615 0.16950615\n",
            " 0.16950615 0.16950615 0.16950615 0.16950615 0.16950615 0.16950615\n",
            " 0.16950615 0.16950615 0.16950615 0.16950615 0.16950615 0.17418867\n",
            " 0.17590494 0.17834581 0.18099542 0.18368028 0.18634284 0.18895705\n",
            " 0.19150931 0.19399442 0.1964138  0.19877289 0.20107917 0.20334025]\n",
            "14 day output [[0.20556287]]\n",
            "15 day input [0.16707218 0.17112733 0.17639903 0.18349554 0.1717356  0.16423358\n",
            " 0.16991079 0.17619627 0.16788321 0.16909976 0.17396594 0.17741281\n",
            " 0.18268451 0.19221411 0.18896999 0.19018654 0.17396594 0.17092457\n",
            " 0.16788321 0.17477697 0.16443633 0.14557989 0.15287916 0.15369019\n",
            " 0.15044607 0.14152474 0.15145985 0.13341444 0.12530414 0.11719384\n",
            " 0.11780211 0.12489862 0.14132198 0.13098135 0.12935929 0.13240065\n",
            " 0.12895377 0.12530414 0.13381995 0.14557989 0.15166261 0.15085158\n",
            " 0.14679643 0.14355231 0.12733171 0.14963504 0.14801298 0.15815085\n",
            " 0.16504461 0.15896188 0.16626115 0.16950615 0.16950615 0.16950615\n",
            " 0.16950615 0.16950615 0.16950615 0.16950615 0.16950615 0.16950615\n",
            " 0.16950615 0.16950615 0.16950615 0.16950615 0.16950615 0.16950615\n",
            " 0.16950615 0.16950615 0.16950615 0.16950615 0.16950615 0.16950615\n",
            " 0.16950615 0.16950615 0.16950615 0.16950615 0.16950615 0.16950615\n",
            " 0.16950615 0.16950615 0.16950615 0.16950615 0.17418867 0.17590494\n",
            " 0.17834581 0.18099542 0.18368028 0.18634284 0.18895705 0.19150931\n",
            " 0.19399442 0.1964138  0.19877289 0.20107917 0.20334025 0.20556287]\n",
            "15 day output [[0.20775226]]\n",
            "16 day input [0.17112733 0.17639903 0.18349554 0.1717356  0.16423358 0.16991079\n",
            " 0.17619627 0.16788321 0.16909976 0.17396594 0.17741281 0.18268451\n",
            " 0.19221411 0.18896999 0.19018654 0.17396594 0.17092457 0.16788321\n",
            " 0.17477697 0.16443633 0.14557989 0.15287916 0.15369019 0.15044607\n",
            " 0.14152474 0.15145985 0.13341444 0.12530414 0.11719384 0.11780211\n",
            " 0.12489862 0.14132198 0.13098135 0.12935929 0.13240065 0.12895377\n",
            " 0.12530414 0.13381995 0.14557989 0.15166261 0.15085158 0.14679643\n",
            " 0.14355231 0.12733171 0.14963504 0.14801298 0.15815085 0.16504461\n",
            " 0.15896188 0.16626115 0.16950615 0.16950615 0.16950615 0.16950615\n",
            " 0.16950615 0.16950615 0.16950615 0.16950615 0.16950615 0.16950615\n",
            " 0.16950615 0.16950615 0.16950615 0.16950615 0.16950615 0.16950615\n",
            " 0.16950615 0.16950615 0.16950615 0.16950615 0.16950615 0.16950615\n",
            " 0.16950615 0.16950615 0.16950615 0.16950615 0.16950615 0.16950615\n",
            " 0.16950615 0.16950615 0.16950615 0.17418867 0.17590494 0.17834581\n",
            " 0.18099542 0.18368028 0.18634284 0.18895705 0.19150931 0.19399442\n",
            " 0.1964138  0.19877289 0.20107917 0.20334025 0.20556287 0.20775226]\n",
            "16 day output [[0.20991218]]\n",
            "17 day input [0.17639903 0.18349554 0.1717356  0.16423358 0.16991079 0.17619627\n",
            " 0.16788321 0.16909976 0.17396594 0.17741281 0.18268451 0.19221411\n",
            " 0.18896999 0.19018654 0.17396594 0.17092457 0.16788321 0.17477697\n",
            " 0.16443633 0.14557989 0.15287916 0.15369019 0.15044607 0.14152474\n",
            " 0.15145985 0.13341444 0.12530414 0.11719384 0.11780211 0.12489862\n",
            " 0.14132198 0.13098135 0.12935929 0.13240065 0.12895377 0.12530414\n",
            " 0.13381995 0.14557989 0.15166261 0.15085158 0.14679643 0.14355231\n",
            " 0.12733171 0.14963504 0.14801298 0.15815085 0.16504461 0.15896188\n",
            " 0.16626115 0.16950615 0.16950615 0.16950615 0.16950615 0.16950615\n",
            " 0.16950615 0.16950615 0.16950615 0.16950615 0.16950615 0.16950615\n",
            " 0.16950615 0.16950615 0.16950615 0.16950615 0.16950615 0.16950615\n",
            " 0.16950615 0.16950615 0.16950615 0.16950615 0.16950615 0.16950615\n",
            " 0.16950615 0.16950615 0.16950615 0.16950615 0.16950615 0.16950615\n",
            " 0.16950615 0.16950615 0.17418867 0.17590494 0.17834581 0.18099542\n",
            " 0.18368028 0.18634284 0.18895705 0.19150931 0.19399442 0.1964138\n",
            " 0.19877289 0.20107917 0.20334025 0.20556287 0.20775226 0.20991218]\n",
            "17 day output [[0.21204469]]\n",
            "18 day input [0.18349554 0.1717356  0.16423358 0.16991079 0.17619627 0.16788321\n",
            " 0.16909976 0.17396594 0.17741281 0.18268451 0.19221411 0.18896999\n",
            " 0.19018654 0.17396594 0.17092457 0.16788321 0.17477697 0.16443633\n",
            " 0.14557989 0.15287916 0.15369019 0.15044607 0.14152474 0.15145985\n",
            " 0.13341444 0.12530414 0.11719384 0.11780211 0.12489862 0.14132198\n",
            " 0.13098135 0.12935929 0.13240065 0.12895377 0.12530414 0.13381995\n",
            " 0.14557989 0.15166261 0.15085158 0.14679643 0.14355231 0.12733171\n",
            " 0.14963504 0.14801298 0.15815085 0.16504461 0.15896188 0.16626115\n",
            " 0.16950615 0.16950615 0.16950615 0.16950615 0.16950615 0.16950615\n",
            " 0.16950615 0.16950615 0.16950615 0.16950615 0.16950615 0.16950615\n",
            " 0.16950615 0.16950615 0.16950615 0.16950615 0.16950615 0.16950615\n",
            " 0.16950615 0.16950615 0.16950615 0.16950615 0.16950615 0.16950615\n",
            " 0.16950615 0.16950615 0.16950615 0.16950615 0.16950615 0.16950615\n",
            " 0.16950615 0.17418867 0.17590494 0.17834581 0.18099542 0.18368028\n",
            " 0.18634284 0.18895705 0.19150931 0.19399442 0.1964138  0.19877289\n",
            " 0.20107917 0.20334025 0.20556287 0.20775226 0.20991218 0.21204469]\n",
            "18 day output [[0.21415089]]\n",
            "19 day input [0.1717356  0.16423358 0.16991079 0.17619627 0.16788321 0.16909976\n",
            " 0.17396594 0.17741281 0.18268451 0.19221411 0.18896999 0.19018654\n",
            " 0.17396594 0.17092457 0.16788321 0.17477697 0.16443633 0.14557989\n",
            " 0.15287916 0.15369019 0.15044607 0.14152474 0.15145985 0.13341444\n",
            " 0.12530414 0.11719384 0.11780211 0.12489862 0.14132198 0.13098135\n",
            " 0.12935929 0.13240065 0.12895377 0.12530414 0.13381995 0.14557989\n",
            " 0.15166261 0.15085158 0.14679643 0.14355231 0.12733171 0.14963504\n",
            " 0.14801298 0.15815085 0.16504461 0.15896188 0.16626115 0.16950615\n",
            " 0.16950615 0.16950615 0.16950615 0.16950615 0.16950615 0.16950615\n",
            " 0.16950615 0.16950615 0.16950615 0.16950615 0.16950615 0.16950615\n",
            " 0.16950615 0.16950615 0.16950615 0.16950615 0.16950615 0.16950615\n",
            " 0.16950615 0.16950615 0.16950615 0.16950615 0.16950615 0.16950615\n",
            " 0.16950615 0.16950615 0.16950615 0.16950615 0.16950615 0.16950615\n",
            " 0.17418867 0.17590494 0.17834581 0.18099542 0.18368028 0.18634284\n",
            " 0.18895705 0.19150931 0.19399442 0.1964138  0.19877289 0.20107917\n",
            " 0.20334025 0.20556287 0.20775226 0.20991218 0.21204469 0.21415089]\n",
            "19 day output [[0.21623102]]\n",
            "20 day input [0.16423358 0.16991079 0.17619627 0.16788321 0.16909976 0.17396594\n",
            " 0.17741281 0.18268451 0.19221411 0.18896999 0.19018654 0.17396594\n",
            " 0.17092457 0.16788321 0.17477697 0.16443633 0.14557989 0.15287916\n",
            " 0.15369019 0.15044607 0.14152474 0.15145985 0.13341444 0.12530414\n",
            " 0.11719384 0.11780211 0.12489862 0.14132198 0.13098135 0.12935929\n",
            " 0.13240065 0.12895377 0.12530414 0.13381995 0.14557989 0.15166261\n",
            " 0.15085158 0.14679643 0.14355231 0.12733171 0.14963504 0.14801298\n",
            " 0.15815085 0.16504461 0.15896188 0.16626115 0.16950615 0.16950615\n",
            " 0.16950615 0.16950615 0.16950615 0.16950615 0.16950615 0.16950615\n",
            " 0.16950615 0.16950615 0.16950615 0.16950615 0.16950615 0.16950615\n",
            " 0.16950615 0.16950615 0.16950615 0.16950615 0.16950615 0.16950615\n",
            " 0.16950615 0.16950615 0.16950615 0.16950615 0.16950615 0.16950615\n",
            " 0.16950615 0.16950615 0.16950615 0.16950615 0.16950615 0.17418867\n",
            " 0.17590494 0.17834581 0.18099542 0.18368028 0.18634284 0.18895705\n",
            " 0.19150931 0.19399442 0.1964138  0.19877289 0.20107917 0.20334025\n",
            " 0.20556287 0.20775226 0.20991218 0.21204469 0.21415089 0.21623102]\n",
            "20 day output [[0.21828511]]\n",
            "21 day input [0.16991079 0.17619627 0.16788321 0.16909976 0.17396594 0.17741281\n",
            " 0.18268451 0.19221411 0.18896999 0.19018654 0.17396594 0.17092457\n",
            " 0.16788321 0.17477697 0.16443633 0.14557989 0.15287916 0.15369019\n",
            " 0.15044607 0.14152474 0.15145985 0.13341444 0.12530414 0.11719384\n",
            " 0.11780211 0.12489862 0.14132198 0.13098135 0.12935929 0.13240065\n",
            " 0.12895377 0.12530414 0.13381995 0.14557989 0.15166261 0.15085158\n",
            " 0.14679643 0.14355231 0.12733171 0.14963504 0.14801298 0.15815085\n",
            " 0.16504461 0.15896188 0.16626115 0.16950615 0.16950615 0.16950615\n",
            " 0.16950615 0.16950615 0.16950615 0.16950615 0.16950615 0.16950615\n",
            " 0.16950615 0.16950615 0.16950615 0.16950615 0.16950615 0.16950615\n",
            " 0.16950615 0.16950615 0.16950615 0.16950615 0.16950615 0.16950615\n",
            " 0.16950615 0.16950615 0.16950615 0.16950615 0.16950615 0.16950615\n",
            " 0.16950615 0.16950615 0.16950615 0.16950615 0.17418867 0.17590494\n",
            " 0.17834581 0.18099542 0.18368028 0.18634284 0.18895705 0.19150931\n",
            " 0.19399442 0.1964138  0.19877289 0.20107917 0.20334025 0.20556287\n",
            " 0.20775226 0.20991218 0.21204469 0.21415089 0.21623102 0.21828511]\n",
            "21 day output [[0.22031304]]\n",
            "22 day input [0.17619627 0.16788321 0.16909976 0.17396594 0.17741281 0.18268451\n",
            " 0.19221411 0.18896999 0.19018654 0.17396594 0.17092457 0.16788321\n",
            " 0.17477697 0.16443633 0.14557989 0.15287916 0.15369019 0.15044607\n",
            " 0.14152474 0.15145985 0.13341444 0.12530414 0.11719384 0.11780211\n",
            " 0.12489862 0.14132198 0.13098135 0.12935929 0.13240065 0.12895377\n",
            " 0.12530414 0.13381995 0.14557989 0.15166261 0.15085158 0.14679643\n",
            " 0.14355231 0.12733171 0.14963504 0.14801298 0.15815085 0.16504461\n",
            " 0.15896188 0.16626115 0.16950615 0.16950615 0.16950615 0.16950615\n",
            " 0.16950615 0.16950615 0.16950615 0.16950615 0.16950615 0.16950615\n",
            " 0.16950615 0.16950615 0.16950615 0.16950615 0.16950615 0.16950615\n",
            " 0.16950615 0.16950615 0.16950615 0.16950615 0.16950615 0.16950615\n",
            " 0.16950615 0.16950615 0.16950615 0.16950615 0.16950615 0.16950615\n",
            " 0.16950615 0.16950615 0.16950615 0.17418867 0.17590494 0.17834581\n",
            " 0.18099542 0.18368028 0.18634284 0.18895705 0.19150931 0.19399442\n",
            " 0.1964138  0.19877289 0.20107917 0.20334025 0.20556287 0.20775226\n",
            " 0.20991218 0.21204469 0.21415089 0.21623102 0.21828511 0.22031304]\n",
            "22 day output [[0.22231495]]\n",
            "23 day input [0.16788321 0.16909976 0.17396594 0.17741281 0.18268451 0.19221411\n",
            " 0.18896999 0.19018654 0.17396594 0.17092457 0.16788321 0.17477697\n",
            " 0.16443633 0.14557989 0.15287916 0.15369019 0.15044607 0.14152474\n",
            " 0.15145985 0.13341444 0.12530414 0.11719384 0.11780211 0.12489862\n",
            " 0.14132198 0.13098135 0.12935929 0.13240065 0.12895377 0.12530414\n",
            " 0.13381995 0.14557989 0.15166261 0.15085158 0.14679643 0.14355231\n",
            " 0.12733171 0.14963504 0.14801298 0.15815085 0.16504461 0.15896188\n",
            " 0.16626115 0.16950615 0.16950615 0.16950615 0.16950615 0.16950615\n",
            " 0.16950615 0.16950615 0.16950615 0.16950615 0.16950615 0.16950615\n",
            " 0.16950615 0.16950615 0.16950615 0.16950615 0.16950615 0.16950615\n",
            " 0.16950615 0.16950615 0.16950615 0.16950615 0.16950615 0.16950615\n",
            " 0.16950615 0.16950615 0.16950615 0.16950615 0.16950615 0.16950615\n",
            " 0.16950615 0.16950615 0.17418867 0.17590494 0.17834581 0.18099542\n",
            " 0.18368028 0.18634284 0.18895705 0.19150931 0.19399442 0.1964138\n",
            " 0.19877289 0.20107917 0.20334025 0.20556287 0.20775226 0.20991218\n",
            " 0.21204469 0.21415089 0.21623102 0.21828511 0.22031304 0.22231495]\n",
            "23 day output [[0.22429146]]\n",
            "24 day input [0.16909976 0.17396594 0.17741281 0.18268451 0.19221411 0.18896999\n",
            " 0.19018654 0.17396594 0.17092457 0.16788321 0.17477697 0.16443633\n",
            " 0.14557989 0.15287916 0.15369019 0.15044607 0.14152474 0.15145985\n",
            " 0.13341444 0.12530414 0.11719384 0.11780211 0.12489862 0.14132198\n",
            " 0.13098135 0.12935929 0.13240065 0.12895377 0.12530414 0.13381995\n",
            " 0.14557989 0.15166261 0.15085158 0.14679643 0.14355231 0.12733171\n",
            " 0.14963504 0.14801298 0.15815085 0.16504461 0.15896188 0.16626115\n",
            " 0.16950615 0.16950615 0.16950615 0.16950615 0.16950615 0.16950615\n",
            " 0.16950615 0.16950615 0.16950615 0.16950615 0.16950615 0.16950615\n",
            " 0.16950615 0.16950615 0.16950615 0.16950615 0.16950615 0.16950615\n",
            " 0.16950615 0.16950615 0.16950615 0.16950615 0.16950615 0.16950615\n",
            " 0.16950615 0.16950615 0.16950615 0.16950615 0.16950615 0.16950615\n",
            " 0.16950615 0.17418867 0.17590494 0.17834581 0.18099542 0.18368028\n",
            " 0.18634284 0.18895705 0.19150931 0.19399442 0.1964138  0.19877289\n",
            " 0.20107917 0.20334025 0.20556287 0.20775226 0.20991218 0.21204469\n",
            " 0.21415089 0.21623102 0.21828511 0.22031304 0.22231495 0.22429146]\n",
            "24 day output [[0.22624335]]\n",
            "25 day input [0.17396594 0.17741281 0.18268451 0.19221411 0.18896999 0.19018654\n",
            " 0.17396594 0.17092457 0.16788321 0.17477697 0.16443633 0.14557989\n",
            " 0.15287916 0.15369019 0.15044607 0.14152474 0.15145985 0.13341444\n",
            " 0.12530414 0.11719384 0.11780211 0.12489862 0.14132198 0.13098135\n",
            " 0.12935929 0.13240065 0.12895377 0.12530414 0.13381995 0.14557989\n",
            " 0.15166261 0.15085158 0.14679643 0.14355231 0.12733171 0.14963504\n",
            " 0.14801298 0.15815085 0.16504461 0.15896188 0.16626115 0.16950615\n",
            " 0.16950615 0.16950615 0.16950615 0.16950615 0.16950615 0.16950615\n",
            " 0.16950615 0.16950615 0.16950615 0.16950615 0.16950615 0.16950615\n",
            " 0.16950615 0.16950615 0.16950615 0.16950615 0.16950615 0.16950615\n",
            " 0.16950615 0.16950615 0.16950615 0.16950615 0.16950615 0.16950615\n",
            " 0.16950615 0.16950615 0.16950615 0.16950615 0.16950615 0.16950615\n",
            " 0.17418867 0.17590494 0.17834581 0.18099542 0.18368028 0.18634284\n",
            " 0.18895705 0.19150931 0.19399442 0.1964138  0.19877289 0.20107917\n",
            " 0.20334025 0.20556287 0.20775226 0.20991218 0.21204469 0.21415089\n",
            " 0.21623102 0.21828511 0.22031304 0.22231495 0.22429146 0.22624335]\n",
            "25 day output [[0.22817197]]\n",
            "26 day input [0.17741281 0.18268451 0.19221411 0.18896999 0.19018654 0.17396594\n",
            " 0.17092457 0.16788321 0.17477697 0.16443633 0.14557989 0.15287916\n",
            " 0.15369019 0.15044607 0.14152474 0.15145985 0.13341444 0.12530414\n",
            " 0.11719384 0.11780211 0.12489862 0.14132198 0.13098135 0.12935929\n",
            " 0.13240065 0.12895377 0.12530414 0.13381995 0.14557989 0.15166261\n",
            " 0.15085158 0.14679643 0.14355231 0.12733171 0.14963504 0.14801298\n",
            " 0.15815085 0.16504461 0.15896188 0.16626115 0.16950615 0.16950615\n",
            " 0.16950615 0.16950615 0.16950615 0.16950615 0.16950615 0.16950615\n",
            " 0.16950615 0.16950615 0.16950615 0.16950615 0.16950615 0.16950615\n",
            " 0.16950615 0.16950615 0.16950615 0.16950615 0.16950615 0.16950615\n",
            " 0.16950615 0.16950615 0.16950615 0.16950615 0.16950615 0.16950615\n",
            " 0.16950615 0.16950615 0.16950615 0.16950615 0.16950615 0.17418867\n",
            " 0.17590494 0.17834581 0.18099542 0.18368028 0.18634284 0.18895705\n",
            " 0.19150931 0.19399442 0.1964138  0.19877289 0.20107917 0.20334025\n",
            " 0.20556287 0.20775226 0.20991218 0.21204469 0.21415089 0.21623102\n",
            " 0.21828511 0.22031304 0.22231495 0.22429146 0.22624335 0.22817197]\n",
            "26 day output [[0.23007889]]\n",
            "27 day input [0.18268451 0.19221411 0.18896999 0.19018654 0.17396594 0.17092457\n",
            " 0.16788321 0.17477697 0.16443633 0.14557989 0.15287916 0.15369019\n",
            " 0.15044607 0.14152474 0.15145985 0.13341444 0.12530414 0.11719384\n",
            " 0.11780211 0.12489862 0.14132198 0.13098135 0.12935929 0.13240065\n",
            " 0.12895377 0.12530414 0.13381995 0.14557989 0.15166261 0.15085158\n",
            " 0.14679643 0.14355231 0.12733171 0.14963504 0.14801298 0.15815085\n",
            " 0.16504461 0.15896188 0.16626115 0.16950615 0.16950615 0.16950615\n",
            " 0.16950615 0.16950615 0.16950615 0.16950615 0.16950615 0.16950615\n",
            " 0.16950615 0.16950615 0.16950615 0.16950615 0.16950615 0.16950615\n",
            " 0.16950615 0.16950615 0.16950615 0.16950615 0.16950615 0.16950615\n",
            " 0.16950615 0.16950615 0.16950615 0.16950615 0.16950615 0.16950615\n",
            " 0.16950615 0.16950615 0.16950615 0.16950615 0.17418867 0.17590494\n",
            " 0.17834581 0.18099542 0.18368028 0.18634284 0.18895705 0.19150931\n",
            " 0.19399442 0.1964138  0.19877289 0.20107917 0.20334025 0.20556287\n",
            " 0.20775226 0.20991218 0.21204469 0.21415089 0.21623102 0.21828511\n",
            " 0.22031304 0.22231495 0.22429146 0.22624335 0.22817197 0.23007889]\n",
            "27 day output [[0.23196591]]\n",
            "28 day input [0.19221411 0.18896999 0.19018654 0.17396594 0.17092457 0.16788321\n",
            " 0.17477697 0.16443633 0.14557989 0.15287916 0.15369019 0.15044607\n",
            " 0.14152474 0.15145985 0.13341444 0.12530414 0.11719384 0.11780211\n",
            " 0.12489862 0.14132198 0.13098135 0.12935929 0.13240065 0.12895377\n",
            " 0.12530414 0.13381995 0.14557989 0.15166261 0.15085158 0.14679643\n",
            " 0.14355231 0.12733171 0.14963504 0.14801298 0.15815085 0.16504461\n",
            " 0.15896188 0.16626115 0.16950615 0.16950615 0.16950615 0.16950615\n",
            " 0.16950615 0.16950615 0.16950615 0.16950615 0.16950615 0.16950615\n",
            " 0.16950615 0.16950615 0.16950615 0.16950615 0.16950615 0.16950615\n",
            " 0.16950615 0.16950615 0.16950615 0.16950615 0.16950615 0.16950615\n",
            " 0.16950615 0.16950615 0.16950615 0.16950615 0.16950615 0.16950615\n",
            " 0.16950615 0.16950615 0.16950615 0.17418867 0.17590494 0.17834581\n",
            " 0.18099542 0.18368028 0.18634284 0.18895705 0.19150931 0.19399442\n",
            " 0.1964138  0.19877289 0.20107917 0.20334025 0.20556287 0.20775226\n",
            " 0.20991218 0.21204469 0.21415089 0.21623102 0.21828511 0.22031304\n",
            " 0.22231495 0.22429146 0.22624335 0.22817197 0.23007889 0.23196591]\n",
            "28 day output [[0.23383483]]\n",
            "29 day input [0.18896999 0.19018654 0.17396594 0.17092457 0.16788321 0.17477697\n",
            " 0.16443633 0.14557989 0.15287916 0.15369019 0.15044607 0.14152474\n",
            " 0.15145985 0.13341444 0.12530414 0.11719384 0.11780211 0.12489862\n",
            " 0.14132198 0.13098135 0.12935929 0.13240065 0.12895377 0.12530414\n",
            " 0.13381995 0.14557989 0.15166261 0.15085158 0.14679643 0.14355231\n",
            " 0.12733171 0.14963504 0.14801298 0.15815085 0.16504461 0.15896188\n",
            " 0.16626115 0.16950615 0.16950615 0.16950615 0.16950615 0.16950615\n",
            " 0.16950615 0.16950615 0.16950615 0.16950615 0.16950615 0.16950615\n",
            " 0.16950615 0.16950615 0.16950615 0.16950615 0.16950615 0.16950615\n",
            " 0.16950615 0.16950615 0.16950615 0.16950615 0.16950615 0.16950615\n",
            " 0.16950615 0.16950615 0.16950615 0.16950615 0.16950615 0.16950615\n",
            " 0.16950615 0.16950615 0.17418867 0.17590494 0.17834581 0.18099542\n",
            " 0.18368028 0.18634284 0.18895705 0.19150931 0.19399442 0.1964138\n",
            " 0.19877289 0.20107917 0.20334025 0.20556287 0.20775226 0.20991218\n",
            " 0.21204469 0.21415089 0.21623102 0.21828511 0.22031304 0.22231495\n",
            " 0.22429146 0.22624335 0.22817197 0.23007889 0.23196591 0.23383483]\n",
            "29 day output [[0.23568754]]\n",
            "[[0.16950614750385284], [0.17418867349624634], [0.17590494453907013], [0.17834581434726715], [0.1809954196214676], [0.18368028104305267], [0.18634283542633057], [0.18895705044269562], [0.19150930643081665], [0.1939944177865982], [0.1964138001203537], [0.19877289235591888], [0.20107917487621307], [0.20334024727344513], [0.20556287467479706], [0.2077522575855255], [0.20991218090057373], [0.21204468607902527], [0.21415089070796967], [0.21623101830482483], [0.21828511357307434], [0.22031304240226746], [0.2223149538040161], [0.22429145872592926], [0.22624334692955017], [0.22817197442054749], [0.23007889091968536], [0.23196591436862946], [0.23383483290672302], [0.23568753898143768]]\n"
          ]
        }
      ]
    },
    {
      "cell_type": "code",
      "source": [
        "day_new=np.arange(1,101)\n",
        "day_pred=np.arange(101,131)\n",
        "\n",
        "\n",
        "len(df)\n",
        "plt.plot(day_new,scaler.inverse_transform(df[1935:]))\n",
        "plt.plot(day_pred,scaler.inverse_transform(lst_output))"
      ],
      "metadata": {
        "colab": {
          "base_uri": "https://localhost:8080/",
          "height": 447
        },
        "id": "bcvU7MopazNX",
        "outputId": "cd3c31f0-97ce-482e-a787-13b11e0ffc57"
      },
      "execution_count": null,
      "outputs": [
        {
          "output_type": "execute_result",
          "data": {
            "text/plain": [
              "[<matplotlib.lines.Line2D at 0x7ed8d5621600>]"
            ]
          },
          "metadata": {},
          "execution_count": 48
        },
        {
          "output_type": "display_data",
          "data": {
            "text/plain": [
              "<Figure size 640x480 with 1 Axes>"
            ],
            "image/png": "[encoded data removed]"
          },
          "metadata": {}
        }
      ]
    },
    {
      "cell_type": "code",
      "source": [
        "# to get better visualization: -\n",
        "\n",
        "df_b=df.tolist()\n",
        "df_b.extend(lst_output)\n",
        "plt.plot(df_b[1900:])"
      ],
      "metadata": {
        "colab": {
          "base_uri": "https://localhost:8080/",
          "height": 447
        },
        "id": "lTp3_ZLJa-uM",
        "outputId": "6862d190-e0f1-45bf-d7fc-2a28f28e224f"
      },
      "execution_count": null,
      "outputs": [
        {
          "output_type": "execute_result",
          "data": {
            "text/plain": [
              "[<matplotlib.lines.Line2D at 0x7ed8d4f26590>]"
            ]
          },
          "metadata": {},
          "execution_count": 49
        },
        {
          "output_type": "display_data",
          "data": {
            "text/plain": [
              "<Figure size 640x480 with 1 Axes>"
            ],
            "image/png": "[encoded data removed]"
          },
          "metadata": {}
        }
      ]
    }
  ]
}